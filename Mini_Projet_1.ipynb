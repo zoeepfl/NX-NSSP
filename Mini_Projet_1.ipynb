{
 "cells": [
  {
   "cell_type": "markdown",
   "metadata": {},
   "source": [
    "*Please name your Example notebook as transparently as possible. Feel free to add a description of the workflow's goal. [Remove this line when creating your example]*"
   ]
  },
  {
   "cell_type": "markdown",
   "metadata": {},
   "source": [
    "# Example Notebook Template"
   ]
  },
  {
   "cell_type": "markdown",
   "metadata": {},
   "source": [
    "**Author of this template** : Michèle Masson-Trottier [Remove this line when creating your example]"
   ]
  },
  {
   "cell_type": "markdown",
   "metadata": {},
   "source": [
    "**Author**: \n",
    "*Include the name of all authors of the workflow showcased in the example notebook*.\n",
    "\n",
    "**Date**:\n",
    "\n",
    "### Citation and Resources:\n",
    "*Please include the citations for all tools, software, and publications referenced in the workflow. If you are basing your workflow on another previously published example notebook, please cite the name and DOI.*\n",
    "\n",
    "#### Tools included in this workflow\n",
    "*Cite the tools based on their preferred method (example through a Zenodo DOI or a publication)*\n",
    "\n",
    "#### Workflows this work is based on (if applicable)\n",
    "*If you started from another published workflow, please cite it here*\n",
    "\n",
    "#### Publications\n",
    "*Any publication that helped you build your example should be cited here*\n",
    "\n",
    "#### Educational resources\n",
    "*Any educational resource (for example Andy's Brain Book, FSL tutorials...) should be cited here.*\n",
    "\n",
    "#### Dataset\n",
    "*Please cite the database and dataset used in your example*"
   ]
  },
  {
   "cell_type": "markdown",
   "metadata": {},
   "source": [
    "**Optional:** Add a Table of Contents (ToC) below if it helps navigation during interactive use on Neurodesk. \n",
    "When rendered on GitHub Pages, a sidebar ToC is already available, so an inline ToC may be unnecessary.\n",
    "\n",
    "Each link must match a corresponding section heading: ` ## 1. Data Preparation → #1-Data-Preparation` (keep spaces as hyphens, preserve capital letters), as demonstrated in the next cell.\n",
    "\n",
    "\n",
    "[Remove this cell when creating your example]"
   ]
  },
  {
   "cell_type": "markdown",
   "metadata": {},
   "source": [
    "## Table of content\n",
    "[1. Data Preparation](#1.-Data-Preparation)  \n",
    "[2. Analysis](#2.-Analysis)  \n",
    "[3. Results](#3.-Results) \n",
    "\n",
    "[Remove this cell if no ToC is used in your notebook]"
   ]
  },
  {
   "cell_type": "markdown",
   "metadata": {},
   "source": [
    "## Load software tools and import python libraries"
   ]
  },
  {
   "cell_type": "markdown",
   "metadata": {},
   "source": [
    "Please have a bloc for loading the different modules needed for your example. If you can not find all the required tools in Neurodesk, feel free to add tools using the web-based GUI https://www.neurodesk.org/neurocontainers-ui/"
   ]
  },
  {
   "cell_type": "code",
   "execution_count": 1,
   "metadata": {
    "editable": true,
    "slideshow": {
     "slide_type": ""
    },
    "tags": []
   },
   "outputs": [
    {
     "ename": "ModuleNotFoundError",
     "evalue": "No module named 'module'",
     "output_type": "error",
     "traceback": [
      "\u001b[0;31m---------------------------------------------------------------------------\u001b[0m",
      "\u001b[0;31mModuleNotFoundError\u001b[0m                       Traceback (most recent call last)",
      "Cell \u001b[0;32mIn[1], line 2\u001b[0m\n\u001b[1;32m      1\u001b[0m \u001b[38;5;66;03m#load FSL 6.0.4\u001b[39;00m\n\u001b[0;32m----> 2\u001b[0m \u001b[38;5;28;01mimport\u001b[39;00m \u001b[38;5;21;01mmodule\u001b[39;00m\n\u001b[1;32m      3\u001b[0m \u001b[38;5;28;01mawait\u001b[39;00m module\u001b[38;5;241m.\u001b[39mload(\u001b[38;5;124m'\u001b[39m\u001b[38;5;124mfsl/6.0.4\u001b[39m\u001b[38;5;124m'\u001b[39m)\n\u001b[1;32m      4\u001b[0m \u001b[38;5;28;01mawait\u001b[39;00m module\u001b[38;5;241m.\u001b[39mlist()\n",
      "\u001b[0;31mModuleNotFoundError\u001b[0m: No module named 'module'"
     ]
    }
   ],
   "source": [
    "#load FSL 6.0.4\n",
    "import module\n",
    "await module.load('fsl/6.0.4')\n",
    "await module.list()"
   ]
  },
  {
   "cell_type": "markdown",
   "metadata": {},
   "source": [
    "Please consult the python packages included in the base image [see list here](https://github.com/neurodesk/neurodesktop/blob/main/Dockerfile). If you are using python packages different than these, be sure to `pip install` them in the workflow."
   ]
  },
  {
   "cell_type": "code",
   "execution_count": null,
   "metadata": {
    "editable": true,
    "slideshow": {
     "slide_type": ""
    },
    "tags": []
   },
   "outputs": [],
   "source": [
    "%%capture \n",
    "!pip install pydicom"
   ]
  },
  {
   "cell_type": "code",
   "execution_count": null,
   "metadata": {
    "editable": true,
    "slideshow": {
     "slide_type": ""
    },
    "tags": []
   },
   "outputs": [],
   "source": [
    "# Import the necessary libraries\n",
    "import pydicom # Library to work with DICOM files\n",
    "import matplotlib.pyplot as plt # Plotting library for displaying images\n",
    "import os # Standard library to interact with the filesystem"
   ]
  },
  {
   "cell_type": "markdown",
   "metadata": {},
   "source": [
    "## 1. Data Preparation\n",
    "*Please indicate clearly where the data is sourced. In this template, there's an example for Datalad and OSF*"
   ]
  },
  {
   "cell_type": "markdown",
   "metadata": {},
   "source": [
    "# Our code (not neurodesk template) :\n",
    "# START TO RUN FROM HERE, IGNORE CELLS ABOVE"
   ]
  },
  {
   "cell_type": "code",
   "execution_count": 3,
   "metadata": {},
   "outputs": [
    {
     "name": "stderr",
     "output_type": "stream",
     "text": [
      "Gtk-Message: 20:36:50.988: Failed to load module \"canberra-gtk-module\"\n"
     ]
    }
   ],
   "source": [
    "%gui wx\n",
    "import sys\n",
    "import os\n",
    "\n",
    "#####################\n",
    "# Import of utils.py functions\n",
    "#####################\n",
    "# Required to get utils.py and access its functions\n",
    "notebook_dir = os.path.abspath(\"\")\n",
    "parent_dir = os.path.abspath(os.path.join(notebook_dir, '..'))\n",
    "sys.path.append(parent_dir)\n",
    "sys.path.append('.')\n",
    "from utils import loadFSL, FSLeyesServer, mkdir_no_exist\n",
    "\n",
    "\n",
    "#############################\n",
    "# Loading fsl and freesurfer within Neurodesk\n",
    "# You can find the list of available other modules by clicking on the \"Softwares\" tab on the left\n",
    "#############################\n",
    "import lmod\n",
    "await lmod.purge(force=True)\n",
    "await lmod.load('fsl/6.0.7.4')\n",
    "await lmod.load('freesurfer/7.4.1')\n",
    "await lmod.list()\n",
    "\n",
    "####################\n",
    "# Setup FSL path\n",
    "####################\n",
    "loadFSL()\n",
    "\n",
    "###################\n",
    "# Load all relevant libraries for the lab\n",
    "##################\n",
    "import fsl.wrappers\n",
    "from fsl.wrappers import fslmaths\n",
    "\n",
    "import mne_nirs\n",
    "import nilearn\n",
    "from nilearn.datasets import fetch_development_fmri\n",
    "\n",
    "import mne\n",
    "import mne_nirs\n",
    "import dipy\n",
    "from dipy.data import fetch_bundles_2_subjects, read_bundles_2_subjects\n",
    "import xml.etree.ElementTree as ET\n",
    "import os.path as op\n",
    "import nibabel as nib\n",
    "import glob\n",
    "\n",
    "import ants\n",
    "\n",
    "import openneuro\n",
    "from mne.datasets import sample\n",
    "from mne_bids import BIDSPath, read_raw_bids, print_dir_tree, make_report\n",
    "\n",
    "\n",
    "# Useful imports to define the direct download function below\n",
    "import requests\n",
    "import urllib.request\n",
    "from tqdm import tqdm\n",
    "\n",
    "\n",
    "# FSL function wrappers which we will call from python directly\n",
    "from fsl.wrappers import fast, bet\n",
    "from fsl.wrappers.misc import fslroi\n",
    "from fsl.wrappers import flirt\n",
    "\n",
    "# General purpose imports to handle paths, files etc\n",
    "import glob\n",
    "import pandas as pd\n",
    "import numpy as np\n",
    "import json\n",
    "import subprocess"
   ]
  },
  {
   "cell_type": "code",
   "execution_count": 4,
   "metadata": {},
   "outputs": [],
   "source": [
    "anatomical_path = op.join(\"subject101410\", \"T1w\", \"T1w.nii.gz\") #the original brain\n",
    "subject_id = '101410'"
   ]
  },
  {
   "cell_type": "code",
   "execution_count": 5,
   "metadata": {},
   "outputs": [
    {
     "name": "stdout",
     "output_type": "stream",
     "text": [
      "Derivatives will be written to: /data/derivatives/preprocessed_data/subject_101410\n"
     ]
    }
   ],
   "source": [
    "derivatives = op.join(\"derivatives\", \"preprocessed_data\", \"subject_101410\")\n",
    "deriv_anat = op.join(derivatives, \"anat\")\n",
    "deriv_func = op.join(derivatives, \"func\")\n",
    "\n",
    "for d in (deriv_anat, deriv_func):\n",
    "    os.makedirs(d, exist_ok=True)\n",
    "\n",
    "print(\"Derivatives will be written to:\", os.path.abspath(derivatives))"
   ]
  },
  {
   "cell_type": "code",
   "execution_count": 6,
   "metadata": {},
   "outputs": [],
   "source": [
    "#bids_root   = \"/data/NX-NSSP\"  \n",
    "#preproc_root = op.join(bids_root, 'derivatives','preprocessed_data')\n",
    "#deriv_root = op.join(bids_root, 'derivatives')"
   ]
  },
  {
   "cell_type": "code",
   "execution_count": 7,
   "metadata": {},
   "outputs": [
    {
     "name": "stderr",
     "output_type": "stream",
     "text": [
      "20:36:53: Debug: Adding duplicate image handler for 'Windows bitmap file'\n",
      "20:36:53: Debug: Adding duplicate animation handler for '1' type\n",
      "20:36:53: Debug: Adding duplicate animation handler for '2' type\n",
      "20:36:53: Debug: Adding duplicate image handler for 'Windows bitmap file'\n",
      "20:36:53: Debug: Adding duplicate animation handler for '1' type\n",
      "20:36:53: Debug: Adding duplicate animation handler for '2' type\n",
      "\n",
      "(ipykernel_launcher.py:8866): Gtk-CRITICAL **: 20:36:53.776: gtk_window_resize: assertion 'height > 0' failed\n"
     ]
    }
   ],
   "source": [
    "fsleyesDisplay = FSLeyesServer()\n",
    "fsleyesDisplay.show()"
   ]
  },
  {
   "cell_type": "code",
   "execution_count": 8,
   "metadata": {},
   "outputs": [
    {
     "name": "stderr",
     "output_type": "stream",
     "text": [
      "\n",
      "(ipykernel_launcher.py:8866): Gdk-WARNING **: 20:36:54.600: gdkdrawable-x11.c:952 drawable is not a pixmap or window\n",
      "20:36:54: Debug: ClientToScreen cannot work when toplevel window is not shown\n",
      "20:36:54: Debug: ClientToScreen cannot work when toplevel window is not shown\n",
      "\n",
      "(ipykernel_launcher.py:8866): Gdk-WARNING **: 20:36:54.601: gdkdrawable-x11.c:952 drawable is not a pixmap or window\n",
      "20:36:54: Debug: ClientToScreen cannot work when toplevel window is not shown\n",
      "20:36:54: Debug: ClientToScreen cannot work when toplevel window is not shown\n",
      "\n",
      "(ipykernel_launcher.py:8866): Gdk-WARNING **: 20:36:54.602: gdkdrawable-x11.c:952 drawable is not a pixmap or window\n",
      "20:36:54: Debug: ClientToScreen cannot work when toplevel window is not shown\n",
      "20:36:54: Debug: ClientToScreen cannot work when toplevel window is not shown\n",
      "\n",
      "(ipykernel_launcher.py:8866): Gdk-WARNING **: 20:36:54.603: gdkdrawable-x11.c:952 drawable is not a pixmap or window\n",
      "20:36:54: Debug: ClientToScreen cannot work when toplevel window is not shown\n",
      "20:36:54: Debug: ClientToScreen cannot work when toplevel window is not shown\n",
      "\n",
      "(ipykernel_launcher.py:8866): Gdk-WARNING **: 20:36:54.604: gdkdrawable-x11.c:952 drawable is not a pixmap or window\n",
      "20:36:54: Debug: ClientToScreen cannot work when toplevel window is not shown\n",
      "20:36:54: Debug: ClientToScreen cannot work when toplevel window is not shown\n",
      "\n",
      "(ipykernel_launcher.py:8866): Gdk-WARNING **: 20:36:54.607: gdkdrawable-x11.c:952 drawable is not a pixmap or window\n",
      "20:36:54: Debug: ClientToScreen cannot work when toplevel window is not shown\n",
      "20:36:54: Debug: ClientToScreen cannot work when toplevel window is not shown\n",
      "\n",
      "(ipykernel_launcher.py:8866): Gdk-WARNING **: 20:36:54.607: gdkdrawable-x11.c:952 drawable is not a pixmap or window\n",
      "20:36:54: Debug: ClientToScreen cannot work when toplevel window is not shown\n",
      "20:36:54: Debug: ClientToScreen cannot work when toplevel window is not shown\n"
     ]
    }
   ],
   "source": [
    "fsleyesDisplay.resetOverlays()\n",
    "fsleyesDisplay.load(anatomical_path)"
   ]
  },
  {
   "cell_type": "markdown",
   "metadata": {},
   "source": [
    "## 1)a) Skull-stripping"
   ]
  },
  {
   "cell_type": "code",
   "execution_count": 9,
   "metadata": {},
   "outputs": [
    {
     "name": "stdout",
     "output_type": "stream",
     "text": [
      "Done with BET.\n"
     ]
    }
   ],
   "source": [
    "def get_skull_stripped_anatomical(deriv_anat, anatomical_path, subject_id, robust=False):\n",
    "    \"\"\"\n",
    "    Function to perform skull-stripping (removing the skull around the brain).\n",
    "    This is a simple wrapper around the brain extraction tool (BET) in FSL's suite\n",
    "    It assumes data to be in the BIDS format (which we will cover in the following weeks).\n",
    "    The method also saves the brain mask which was used to extract the brain.\n",
    "\n",
    "    The brain extraction is conducted only on the T1w of the participant.\n",
    "\n",
    "    Parameters\n",
    "    ----------\n",
    "    subject_id: string\n",
    "        Subject ID, the subject on which brain extraction should be conducted.\n",
    "    robust: bool\n",
    "        Whether to conduct robust center estimation with BET or not. Default is False.\n",
    "    \"\"\"\n",
    "    # We perform here skull stripping (you'll learn more about it next week!).\n",
    "    # For now all you need to do is that we remove the bones and flesh from the MRI to get the brain!\n",
    "    betted_brain_path = op.join(deriv_anat, 'sub-{}_T1w'.format(subject_id))\n",
    "    os.system('bet {} {} -m {}'.format(anatomical_path, betted_brain_path, '-R' if robust else ''))\n",
    "    print(\"Done with BET.\")\n",
    "\n",
    "resulting_mask_path = op.join(deriv_anat, 'sub-101410_T1w_mask')\n",
    "get_skull_stripped_anatomical(deriv_anat, anatomical_path, subject_id, robust=True)"
   ]
  },
  {
   "cell_type": "code",
   "execution_count": 10,
   "metadata": {},
   "outputs": [],
   "source": [
    "fsleyesDisplay.load(resulting_mask_path)"
   ]
  },
  {
   "cell_type": "code",
   "execution_count": 11,
   "metadata": {},
   "outputs": [],
   "source": [
    "def apply_fsl_math_approach(img_path, mask_path, masked_img_path):\n",
    "    os.system('fslmaths {} -mas {} {}'.format(img_path, mask_path, masked_img_path))\n",
    "    \n",
    "betted_brain_path = op.join(deriv_anat, 'sub-101410_T1w.nii.gz') # The brain without skull is in the derivatives folder\n",
    "resulting_mask_path = op.join(deriv_anat, 'sub-101410_T1w_mask.nii.gz') # The mask to use\n",
    "\n",
    "apply_fsl_math_approach(anatomical_path, resulting_mask_path, betted_brain_path)"
   ]
  },
  {
   "cell_type": "code",
   "execution_count": 12,
   "metadata": {},
   "outputs": [
    {
     "name": "stderr",
     "output_type": "stream",
     "text": [
      "\n",
      "(ipykernel_launcher.py:8866): Gdk-WARNING **: 20:37:22.177: gdkdrawable-x11.c:952 drawable is not a pixmap or window\n"
     ]
    }
   ],
   "source": [
    "fsleyesDisplay.resetOverlays()\n",
    "fsleyesDisplay.load(betted_brain_path)"
   ]
  },
  {
   "cell_type": "markdown",
   "metadata": {},
   "source": [
    "## 1)b) Segmentation"
   ]
  },
  {
   "cell_type": "code",
   "execution_count": null,
   "metadata": {},
   "outputs": [],
   "source": [
    "bet_path = op.join(deriv_anat, 'sub-101410_T1w')\n",
    "fast_target = bet_path # Replace with either anatomical_path or bet_path (note: you can try both and decide which is more reasonable!)\n",
    "\n",
    "[os.remove(f) for f in glob.glob(op.join(deriv_anat, '*fast*'))] # Just to clean the directory in between runs of the cell\n",
    "segmentation_path = op.join(deriv_anat, 'sub-101410_T1w_fast')\n",
    "fast(imgs=[fast_target], out=segmentation_path, n_classes=3)"
   ]
  },
  {
   "cell_type": "markdown",
   "metadata": {},
   "source": [
    "pve_0 is CSF, pve_1 is grey matter, pve_2 is white matter"
   ]
  },
  {
   "cell_type": "code",
   "execution_count": null,
   "metadata": {},
   "outputs": [],
   "source": [
    "fsleyesDisplay.resetOverlays()\n",
    "fsleyesDisplay.load(bet_path)\n",
    "fsleyesDisplay.load(glob.glob(op.join(deriv_anat,'*pve_0*'))[0])\n",
    "fsleyesDisplay.load(glob.glob(op.join(deriv_anat,'*pve_1*'))[0])\n",
    "fsleyesDisplay.load(glob.glob(op.join(deriv_anat,'*pve_2*'))[0])\n",
    "fsleyesDisplay.displayCtx.getOpts(fsleyesDisplay.overlayList[1]).cmap = 'Red'\n",
    "fsleyesDisplay.displayCtx.getOpts(fsleyesDisplay.overlayList[2]).cmap = 'Green'\n",
    "fsleyesDisplay.displayCtx.getOpts(fsleyesDisplay.overlayList[3]).cmap = 'Blue'"
   ]
  },
  {
   "cell_type": "markdown",
   "metadata": {},
   "source": [
    "## 2)a) Concatenation"
   ]
  },
  {
   "cell_type": "code",
   "execution_count": 13,
   "metadata": {},
   "outputs": [
    {
     "name": "stdout",
     "output_type": "stream",
     "text": [
      "Functional paths have been created\n"
     ]
    }
   ],
   "source": [
    "#prochaine run commence à 189+15.5\n",
    "\n",
    "functional_path_LR = op.join(\"subject101410\", \"fMRI\", \"tfMRI_MOTOR_LR\", \"tfMRI_MOTOR_LR.nii\") \n",
    "functional_path_RL = op.join(\"subject101410\", \"fMRI\", \"tfMRI_MOTOR_RL\", \"tfMRI_MOTOR_RL.nii\") \n",
    "print(\"Functional paths have been created\")"
   ]
  },
  {
   "cell_type": "code",
   "execution_count": null,
   "metadata": {},
   "outputs": [],
   "source": [
    "###########################################\n",
    "# Normalisation de variance - Run LR\n",
    "###########################################\n",
    "print(\"Normalizing variance for LR run\")\n",
    "\n",
    "img_LR = nib.load(functional_path_LR)\n",
    "data_LR = img_LR.get_fdata()\n",
    "affine_LR = img_LR.affine\n",
    "header_LR = img_LR.header\n",
    "\n",
    "mask_img = nib.load(resulting_mask_path)            # charge le fichier du masque depuis le disque\n",
    "mask_data = mask_img.get_fdata().astype(bool)       # convertit en tableau booléen (True = voxels du cerveau)\n",
    "\n",
    "# Vérifie que le masque et les données fonctionnelles ont la même taille\n",
    "if mask_data.shape != data_LR.shape[:3]:\n",
    "    print(\"Dimensions mismatch: resampling mask for LR run.\")\n",
    "    resampled_mask_LR = op.join(deriv_func, \"mask_LR_resampled.nii.gz\")\n",
    "    subprocess.run([\"flirt\", \"-in\", resulting_mask_path, \"-ref\", functional_path_LR, \"-applyxfm\", \"-usesqform\", \"-out\", resampled_mask_LR], check=True)\n",
    "    mask_data = nib.load(resampled_mask_LR).get_fdata().astype(bool)\n",
    "\n",
    "# Calcul de la variance globale sur les voxels du cerveau\n",
    "brain_voxels_LR = data_LR[mask_data]\n",
    "var_voxels_LR = brain_voxels_LR.var(axis=1)\n",
    "global_var_LR = var_voxels_LR.mean()\n",
    "scale_LR = 1 / np.sqrt(global_var_LR)\n",
    "print(f\"Global variance (LR): {global_var_LR:.6g}, scale factor: {scale_LR:.6g}\")\n",
    "\n",
    "# Normalisation\n",
    "data_LR_scaled = data_LR * scale_LR\n",
    "\n",
    "# Sauvegarde\n",
    "scaled_LR_path = op.join(deriv_func, \"tfMRI_MOTOR_LR_varscaled.nii.gz\")\n",
    "nib.save(nib.Nifti1Image(data_LR_scaled.astype(np.float32), affine_LR, header_LR), scaled_LR_path)\n",
    "print(f\"Saved normalized LR run: {scaled_LR_path}\\n\")\n",
    "\n",
    "###########################################\n",
    "# Normalisation de variance - Run RL\n",
    "###########################################\n",
    "print(\"Normalizing variance for RL run\")\n",
    "\n",
    "img_RL = nib.load(functional_path_RL)\n",
    "data_RL = img_RL.get_fdata()\n",
    "affine_RL = img_RL.affine\n",
    "header_RL = img_RL.header\n",
    "\n",
    "if mask_data.shape != data_RL.shape[:3]:\n",
    "    print(\"Dimensions mismatch: resampling mask for RL run.\")\n",
    "    resampled_mask_RL = op.join(deriv_func, \"mask_RL_resampled.nii.gz\")\n",
    "    subprocess.run([\"flirt\", \"-in\", resulting_mask_path, \"-ref\", functional_path_RL, \"-applyxfm\", \"-usesqform\", \"-out\", resampled_mask_RL], check=True)\n",
    "    mask_data = nib.load(resampled_mask_RL).get_fdata().astype(bool)\n",
    "\n",
    "brain_voxels_RL = data_RL[mask_data]\n",
    "var_voxels_RL = brain_voxels_RL.var(axis=1)\n",
    "global_var_RL = var_voxels_RL.mean()\n",
    "scale_RL = 1 / np.sqrt(global_var_RL)\n",
    "print(f\" Global variance (RL): {global_var_RL:.6g}, scale factor: {scale_RL:.6g}\")\n",
    "\n",
    "data_RL_scaled = data_RL * scale_RL\n",
    "\n",
    "scaled_RL_path = op.join(deriv_func, \"tfMRI_MOTOR_RL_varscaled.nii.gz\")\n",
    "nib.save(nib.Nifti1Image(data_RL_scaled.astype(np.float32), affine_RL, header_RL), scaled_RL_path)\n",
    "print(f\" Saved normalized RL run: {scaled_RL_path}\\n\")\n",
    "\n",
    "###########################################\n",
    "# Concaténation temporelle des deux runs\n",
    "###########################################\n",
    "print(\" Concatenating normalized runs...\")\n",
    "\n",
    "img_LR_scaled = nib.load(scaled_LR_path)\n",
    "img_RL_scaled = nib.load(scaled_RL_path)\n",
    "\n",
    "concat_img = nib.concat_images([img_LR_scaled, img_RL_scaled], axis=-1)\n",
    "concat_path = op.join(deriv_func, f\"sub-{subject_id}_motor_concat_varscaled.nii.gz\")\n",
    "\n",
    "nib.save(concat_img, concat_path)\n",
    "print(f\" Done! Final concatenated file: {concat_path}\")\n"
   ]
  },
  {
   "cell_type": "markdown",
   "metadata": {},
   "source": [
    "## 2)b) Motion correction"
   ]
  },
  {
   "cell_type": "code",
   "execution_count": 18,
   "metadata": {},
   "outputs": [
    {
     "name": "stderr",
     "output_type": "stream",
     "text": [
      "Processed data will be saved as derivatives/preprocessed_data/subject_101410/func/tfMRI_MOTOR_LR_motioncorrected\n",
      "\n",
      "McFLIRT v 2.0 - FMRI motion correction\n",
      "\n",
      "Reading time series... \n",
      "first iteration - 8mm scaling, set tolerance\n",
      "Rescaling reference volume [142] to 8 mm pixels\n",
      "Registering volumes ... [143][144][145][146][147][148][149][150][151][152][153][154][155][156][157][158][159][160][161][162][163][164][165][166][167][168][169][170][171][172][173][174][175][176][177][178][179][180][181][182][183][184][185][186][187][188][189][190][191][192][193][194][195][196][197][198][199][200][201][202][203][204][205][206][207][208][209][210][211][212][213][214][215][216][217][218][219][220][221][222][223][224][225][226][227][228][229][230][231][232][233][234][235][236][237][238][239][240][241][242][243][244][245][246][247][248][249][250][251][252][253][254][255][256][257][258][259][260][261][262][263][264][265][266][267][268][269][270][271][272][273][274][275][276][277][278][279][280][281][282][283][141][140][139][138][137][136][135][134][133][132][131][130][129][128][127][126][125][124][123][122][121][120][119][118][117][116][115][114][113][112][111][110][109][108][107][106][105][104][103][102][101][100][99][98][97][96][95][94][93][92][91][90][89][88][87][86][85][84][83][82][81][80][79][78][77][76][75][74][73][72][71][70][69][68][67][66][65][64][63][62][61][60][59][58][57][56][55][54][53][52][51][50][49][48][47][46][45][44][43][42][41][40][39][38][37][36][35][34][33][32][31][30][29][28][27][26][25][24][23][22][21][20][19][18][17][16][15][14][13][12][11][10][9][8][7][6][5][4][3][2][1][0]\n",
      "second iteration - drop to 4mm scaling\n",
      "Rescaling reference volume [142] to 4 mm pixels\n",
      "Registering volumes ... [143][144][145][146][147][148][149][150][151][152][153][154][155][156][157][158][159][160][161][162][163][164][165][166][167][168][169][170][171][172][173][174][175][176][177][178][179][180][181][182][183][184][185][186][187][188][189][190][191][192][193][194][195][196][197][198][199][200][201][202][203][204][205][206][207][208][209][210][211][212][213][214][215][216][217][218][219][220][221][222][223][224][225][226][227][228][229][230][231][232][233][234][235][236][237][238][239][240][241][242][243][244][245][246][247][248][249][250][251][252][253][254][255][256][257][258][259][260][261][262][263][264][265][266][267][268][269][270][271][272][273][274][275][276][277][278][279][280][281][282][283][141][140][139][138][137][136][135][134][133][132][131][130][129][128][127][126][125][124][123][122][121][120][119][118][117][116][115][114][113][112][111][110][109][108][107][106][105][104][103][102][101][100][99][98][97][96][95][94][93][92][91][90][89][88][87][86][85][84][83][82][81][80][79][78][77][76][75][74][73][72][71][70][69][68][67][66][65][64][63][62][61][60][59][58][57][56][55][54][53][52][51][50][49][48][47][46][45][44][43][42][41][40][39][38][37][36][35][34][33][32][31][30][29][28][27][26][25][24][23][22][21][20][19][18][17][16][15][14][13][12][11][10][9][8][7][6][5][4][3][2][1][0]\n",
      "third iteration - 4mm scaling, eighth tolerance\n"
     ]
    },
    {
     "name": "stdout",
     "output_type": "stream",
     "text": [
      "refnum = 142\n",
      "Original_refvol = -1\n"
     ]
    },
    {
     "name": "stderr",
     "output_type": "stream",
     "text": [
      "Registering volumes ... [143][144][145][146][147][148][149][150][151][152][153][154][155][156][157][158][159][160][161][162][163][164][165][166][167][168][169][170][171][172][173][174][175][176][177][178][179][180][181][182][183][184][185][186][187][188][189][190][191][192][193][194][195][196][197][198][199][200][201][202][203][204][205][206][207][208][209][210][211][212][213][214][215][216][217][218][219][220][221][222][223][224][225][226][227][228][229][230][231][232][233][234][235][236][237][238][239][240][241][242][243][244][245][246][247][248][249][250][251][252][253][254][255][256][257][258][259][260][261][262][263][264][265][266][267][268][269][270][271][272][273][274][275][276][277][278][279][280][281][282][283][141][140][139][138][137][136][135][134][133][132][131][130][129][128][127][126][125][124][123][122][121][120][119][118][117][116][115][114][113][112][111][110][109][108][107][106][105][104][103][102][101][100][99][98][97][96][95][94][93][92][91][90][89][88][87][86][85][84][83][82][81][80][79][78][77][76][75][74][73][72][71][70][69][68][67][66][65][64][63][62][61][60][59][58][57][56][55][54][53][52][51][50][49][48][47][46][45][44][43][42][41][40][39][38][37][36][35][34][33][32][31][30][29][28][27][26][25][24][23][22][21][20][19][18][17][16][15][14][13][12][11][10][9][8][7][6][5][4][3][2][1][0]\n",
      "Saving motion corrected time series... \n"
     ]
    },
    {
     "name": "stdout",
     "output_type": "stream",
     "text": [
      "Motor LR corrected\n"
     ]
    },
    {
     "name": "stderr",
     "output_type": "stream",
     "text": [
      "Processed data will be saved as derivatives/preprocessed_data/subject_101410/func/tfMRI_MOTOR_RL_motioncorrected\n",
      "\n",
      "McFLIRT v 2.0 - FMRI motion correction\n",
      "\n",
      "Reading time series... \n",
      "first iteration - 8mm scaling, set tolerance\n",
      "Rescaling reference volume [142] to 8 mm pixels\n",
      "Registering volumes ... [143][144][145][146][147][148][149][150][151][152][153][154][155][156][157][158][159][160][161][162][163][164][165][166][167][168][169][170][171][172][173][174][175][176][177][178][179][180][181][182][183][184][185][186][187][188][189][190][191][192][193][194][195][196][197][198][199][200][201][202][203][204][205][206][207][208][209][210][211][212][213][214][215][216][217][218][219][220][221][222][223][224][225][226][227][228][229][230][231][232][233][234][235][236][237][238][239][240][241][242][243][244][245][246][247][248][249][250][251][252][253][254][255][256][257][258][259][260][261][262][263][264][265][266][267][268][269][270][271][272][273][274][275][276][277][278][279][280][281][282][283][141][140][139][138][137][136][135][134][133][132][131][130][129][128][127][126][125][124][123][122][121][120][119][118][117][116][115][114][113][112][111][110][109][108][107][106][105][104][103][102][101][100][99][98][97][96][95][94][93][92][91][90][89][88][87][86][85][84][83][82][81][80][79][78][77][76][75][74][73][72][71][70][69][68][67][66][65][64][63][62][61][60][59][58][57][56][55][54][53][52][51][50][49][48][47][46][45][44][43][42][41][40][39][38][37][36][35][34][33][32][31][30][29][28][27][26][25][24][23][22][21][20][19][18][17][16][15][14][13][12][11][10][9][8][7][6][5][4][3][2][1][0]\n",
      "second iteration - drop to 4mm scaling\n",
      "Rescaling reference volume [142] to 4 mm pixels\n",
      "Registering volumes ... [143][144][145][146][147][148][149][150][151][152][153][154][155][156][157][158][159][160][161][162][163][164][165][166][167][168][169][170][171][172][173][174][175][176][177][178][179][180][181][182][183][184][185][186][187][188][189][190][191][192][193][194][195][196][197][198][199][200][201][202][203][204][205][206][207][208][209][210][211][212][213][214][215][216][217][218][219][220][221][222][223][224][225][226][227][228][229][230][231][232][233][234][235][236][237][238][239][240][241][242][243][244][245][246][247][248][249][250][251][252][253][254][255][256][257][258][259][260][261][262][263][264][265][266][267][268][269][270][271][272][273][274][275][276][277][278][279][280][281][282][283][141][140][139][138][137][136][135][134][133][132][131][130][129][128][127][126][125][124][123][122][121][120][119][118][117][116][115][114][113][112][111][110][109][108][107][106][105][104][103][102][101][100][99][98][97][96][95][94][93][92][91][90][89][88][87][86][85][84][83][82][81][80][79][78][77][76][75][74][73][72][71][70][69][68][67][66][65][64][63][62][61][60][59][58][57][56][55][54][53][52][51][50][49][48][47][46][45][44][43][42][41][40][39][38][37][36][35][34][33][32][31][30][29][28][27][26][25][24][23][22][21][20][19][18][17][16][15][14][13][12][11][10][9][8][7][6][5][4][3][2][1][0]\n",
      "third iteration - 4mm scaling, eighth tolerance\n"
     ]
    },
    {
     "name": "stdout",
     "output_type": "stream",
     "text": [
      "refnum = 142\n",
      "Original_refvol = -1\n"
     ]
    },
    {
     "name": "stderr",
     "output_type": "stream",
     "text": [
      "Registering volumes ... [143][144][145][146][147][148][149][150][151][152][153][154][155][156][157][158][159][160][161][162][163][164][165][166][167][168][169][170][171][172][173][174][175][176][177][178][179][180][181][182][183][184][185][186][187][188][189][190][191][192][193][194][195][196][197][198][199][200][201][202][203][204][205][206][207][208][209][210][211][212][213][214][215][216][217][218][219][220][221][222][223][224][225][226][227][228][229][230][231][232][233][234][235][236][237][238][239][240][241][242][243][244][245][246][247][248][249][250][251][252][253][254][255][256][257][258][259][260][261][262][263][264][265][266][267][268][269][270][271][272][273][274][275][276][277][278][279][280][281][282][283][141][140][139][138][137][136][135][134][133][132][131][130][129][128][127][126][125][124][123][122][121][120][119][118][117][116][115][114][113][112][111][110][109][108][107][106][105][104][103][102][101][100][99][98][97][96][95][94][93][92][91][90][89][88][87][86][85][84][83][82][81][80][79][78][77][76][75][74][73][72][71][70][69][68][67][66][65][64][63][62][61][60][59][58][57][56][55][54][53][52][51][50][49][48][47][46][45][44][43][42][41][40][39][38][37][36][35][34][33][32][31][30][29][28][27][26][25][24][23][22][21][20][19][18][17][16][15][14][13][12][11][10][9][8][7][6][5][4][3][2][1][0]\n",
      "Saving motion corrected time series... \n"
     ]
    },
    {
     "name": "stdout",
     "output_type": "stream",
     "text": [
      "Motor RL corrected\n"
     ]
    }
   ],
   "source": [
    "from fsl.wrappers import mcflirt\n",
    "\n",
    "path_motioncorr_LR = op.join(deriv_func, \"tfMRI_MOTOR_LR_motioncorrected\")            # path to the motion corrected file\n",
    "path_motioncorr_RL = op.join(deriv_func, \"tfMRI_MOTOR_RL_motioncorrected\")            # path to the motion corrected file\n",
    "\n",
    "mcflirt(infile=functional_path_LR, o=path_motioncorr_LR, plots=True, report=True, dof=6, mats=True)\n",
    "print(\"Motor LR corrected\")\n",
    "mcflirt(infile=functional_path_RL, o=path_motioncorr_RL, plots=True, report=True, dof=6, mats=True)\n",
    "print(\"Motor RL corrected\")"
   ]
  },
  {
   "cell_type": "code",
   "execution_count": 2,
   "metadata": {},
   "outputs": [
    {
     "name": "stdout",
     "output_type": "stream",
     "text": [
      "Dossier supprimé pour libérer de l'espace.\n"
     ]
    }
   ],
   "source": [
    "# Cell to run if save is not possible anymore\n",
    "\n",
    "import shutil\n",
    "import os\n",
    "\n",
    "folder_to_clear = \"derivatives/preprocessed_data/subject_101410\"\n",
    "if os.path.exists(folder_to_clear):\n",
    "    shutil.rmtree(folder_to_clear)\n",
    "    print(\"Dossier supprimé pour libérer de l'espace.\")"
   ]
  },
  {
   "cell_type": "code",
   "execution_count": null,
   "metadata": {},
   "outputs": [],
   "source": []
  },
  {
   "cell_type": "code",
   "execution_count": 21,
   "metadata": {},
   "outputs": [
    {
     "data": {
      "image/png": "[encoded data removed]",
      "text/plain": [
       "<Figure size 640x480 with 1 Axes>"
      ]
     },
     "metadata": {},
     "output_type": "display_data"
    },
    {
     "name": "stdout",
     "output_type": "stream",
     "text": [
      "Indices of frames above threshold: [1, 2, 4, 6, 13, 14, 35, 36, 37, 42, 43, 55, 61, 62, 63, 64, 67, 68, 120, 121, 122, 142, 143, 146, 156, 161, 162, 191, 206, 207, 233, 283]\n"
     ]
    }
   ],
   "source": [
    "import matplotlib.pyplot as plt\n",
    "\n",
    "lr_par_path = op.join(deriv_func, 'tfMRI_MOTOR_LR_motioncorrected.par')\n",
    "rl_par_path = op.join(deriv_func, 'tfMRI_MOTOR_RL_motioncorrected.par')\n",
    "\n",
    "def load_mot_params_fsl_6_dof(path):\n",
    "    return pd.read_csv(path, sep='  ', header=None, engine='python', names=['Rotation x', 'Rotation y', 'Rotation z','Translation x', 'Translation y', 'Translation z'])\n",
    "\n",
    "mot_params = load_mot_params_fsl_6_dof(lr_par_path)\n",
    "mot_params\n",
    "\n",
    "def compute_FD_power(mot_params):\n",
    "    framewise_diff = mot_params.diff().iloc[1:]\n",
    "\n",
    "    rotation_params = framewise_diff[['Rotation x', 'Rotation y', 'Rotation z']]\n",
    "    \n",
    "    convert_rot_to_arc = rotation_params*50             # transform from angle to arc of circle for a radius of 50mm\n",
    "    translation_params = framewise_diff[['Translation x', 'Translation y', 'Translation z']]\n",
    "    fd = convert_rot_to_arc.abs().sum(axis=1) + translation_params.abs().sum(axis=1)\n",
    "    return fd\n",
    "\n",
    "fd = compute_FD_power(mot_params).to_numpy()\n",
    "\n",
    "threshold = np.quantile(fd,0.75) + 1.5*(np.quantile(fd,0.75) - np.quantile(fd,0.25))\n",
    "\n",
    "#%matplotlib inline\n",
    "plt.plot(list(range(1, fd.size+1)), fd)\n",
    "plt.xlabel('Volume')\n",
    "plt.ylabel('FD displacement (mm)')\n",
    "plt.hlines(threshold, 0, 370,colors='black', linestyles='dashed', label='FD threshold')\n",
    "plt.legend()\n",
    "plt.show()\n",
    "\n",
    "print(f\"Indices of frames above threshold: {(np.where(fd > threshold)[0] + 1).tolist()}\")"
   ]
  },
  {
   "cell_type": "markdown",
   "metadata": {},
   "source": [
    "## 2)c) Co-registration (bonus)"
   ]
  },
  {
   "cell_type": "markdown",
   "metadata": {},
   "source": [
    "## 2)d) Gaussian smoothing"
   ]
  },
  {
   "cell_type": "markdown",
   "metadata": {},
   "source": [
    "# END OF OUR CODE, BELOW IS THE NEURODESK TEMPLATE (IGNORE BELOW)"
   ]
  },
  {
   "cell_type": "markdown",
   "metadata": {},
   "source": [
    "### Datalad"
   ]
  },
  {
   "cell_type": "code",
   "execution_count": null,
   "metadata": {
    "editable": true,
    "scrolled": true,
    "slideshow": {
     "slide_type": ""
    },
    "tags": [
     "scroll-output"
    ],
    "vscode": {
     "languageId": "plaintext"
    }
   },
   "outputs": [],
   "source": [
    "%%bash\n",
    "\n",
    "# Install the dataset from GitHub using DataLad. \n",
    "# Replace the URL with the one corresponding to the OpenNeuro dataset you want to use.\n",
    "datalad install https://github.com/OpenNeuroDatasets/ds000102.git \n",
    "\n",
    "# Navigate into the dataset directory. \n",
    "# This should match the name of the dataset repository.\n",
    "cd ds000102\n",
    "\n",
    "# Optional: List available subjects\n",
    "ls -d sub-*\n",
    "\n",
    "# Download data for a specific subject (e.g., sub-08).\n",
    "# You can change the subject ID to the one you're interested in.\n",
    "datalad get sub-08"
   ]
  },
  {
   "cell_type": "markdown",
   "metadata": {},
   "source": [
    "### OSF"
   ]
  },
  {
   "cell_type": "code",
   "execution_count": null,
   "metadata": {
    "editable": true,
    "scrolled": true,
    "slideshow": {
     "slide_type": ""
    },
    "tags": []
   },
   "outputs": [],
   "source": [
    "# Use the OSF client to clone the contents of the OSF project with ID 'ru43c' into the current directory\n",
    "# The output is suppressed for cleaner display using > /dev/null 2>&1\n",
    "!osf -p ru43c clone . > /dev/null 2>&1\n",
    "\n",
    "# Extract the contents of the downloaded tar archive, which contains DICOM files\n",
    "!tar xf osfstorage/dicoms-unsorted.tar\n",
    "\n",
    "# Remove the now-unneeded 'osfstorage' directory to keep things tidy\n",
    "!rm -rf osfstorage/\n",
    "\n",
    "# Display the top of the folder tree for the extracted DICOM files (limited with `head` to avoid overwhelming output)\n",
    "!tree dicoms-unsorted | head\n",
    "\n",
    "# Print a count of how many unsorted DICOM files were extracted\n",
    "!echo -e \"...\\nThere are `ls dicoms-unsorted | wc -l` unsorted DICOMs in ./dicoms-unsorted/\""
   ]
  },
  {
   "cell_type": "markdown",
   "metadata": {},
   "source": [
    "### Visualisation of a dicom (one method for example)"
   ]
  },
  {
   "cell_type": "code",
   "execution_count": null,
   "metadata": {},
   "outputs": [],
   "source": [
    "# Define the path to a DICOM file\n",
    "# You can change this to any other file in the dicoms-unsorted/ directory\n",
    "dcm_path = \"./dicoms-unsorted/MR.1.2.276.0.7230010.3.1.3.0.4480.1677042698.772469.84.dcm\"\n",
    "\n",
    "# Read the DICOM file into a Python object\n",
    "ds = pydicom.dcmread(dcm_path)\n",
    "\n",
    "# ----------------------------\n",
    "# Inspecting DICOM metadata (optional)\n",
    "# ----------------------------\n",
    "\n",
    "# Print a few key metadata fields (can be useful for QC or orientation)\n",
    "print(\"Patient ID:\", ds.get(\"PatientID\", \"N/A\"))\n",
    "print(\"Modality:\", ds.get(\"Modality\", \"N/A\"))\n",
    "print(\"Study Date:\", ds.get(\"StudyDate\", \"N/A\"))\n",
    "\n",
    "# ----------------------------\n",
    "# Visualizing the DICOM image\n",
    "# ----------------------------\n",
    "\n",
    "# Display the image stored in the DICOM file using matplotlib\n",
    "# Note: Some DICOM files (e.g., non-image series) may not contain pixel data\n",
    "plt.imshow(ds.pixel_array, cmap=plt.cm.gray) # Use grayscale color map\n",
    "plt.title(\"DICOM Slice: MR.1.1.dcm\") # Title of the plot\n",
    "plt.axis(\"off\") # Hide axis ticks/labels for cleaner view\n",
    "plt.show()"
   ]
  },
  {
   "cell_type": "markdown",
   "metadata": {},
   "source": [
    "## 2. Analysis"
   ]
  },
  {
   "cell_type": "markdown",
   "metadata": {},
   "source": [
    "*Be sure to annotate your example. You can also add Markdown blocs to provide explanations.*"
   ]
  },
  {
   "cell_type": "code",
   "execution_count": null,
   "metadata": {
    "vscode": {
     "languageId": "plaintext"
    }
   },
   "outputs": [],
   "source": [
    "!bet ./ds000102/sub-08/anat/sub-08_T1w.nii.gz sub-08_T1w_brain.nii.gz"
   ]
  },
  {
   "cell_type": "markdown",
   "metadata": {},
   "source": [
    "## 3. Results"
   ]
  },
  {
   "cell_type": "code",
   "execution_count": null,
   "metadata": {
    "vscode": {
     "languageId": "plaintext"
    }
   },
   "outputs": [],
   "source": [
    "from ipyniivue import NiiVue\n",
    "nv = NiiVue()\n",
    "nv.load_volumes([{\"path\": \"sub-08_T1w_brain.nii.gz\"}])\n",
    "nv"
   ]
  },
  {
   "cell_type": "markdown",
   "metadata": {},
   "source": [
    "## Dependencies in Jupyter/Python\n",
    "- Using the package [watermark](https://github.com/rasbt/watermark) to document system environment and software versions used in this notebook"
   ]
  },
  {
   "cell_type": "code",
   "execution_count": null,
   "metadata": {
    "vscode": {
     "languageId": "plaintext"
    }
   },
   "outputs": [],
   "source": [
    "%%capture\n",
    "!pip install watermark"
   ]
  },
  {
   "cell_type": "code",
   "execution_count": null,
   "metadata": {
    "vscode": {
     "languageId": "plaintext"
    }
   },
   "outputs": [],
   "source": [
    "%load_ext watermark\n",
    "\n",
    "%watermark\n",
    "%watermark --iversions"
   ]
  }
 ],
 "metadata": {
  "kernelspec": {
   "display_name": "Python 3 (ipykernel)",
   "language": "python",
   "name": "python3"
  },
  "language_info": {
   "codemirror_mode": {
    "name": "ipython",
    "version": 3
   },
   "file_extension": ".py",
   "mimetype": "text/x-python",
   "name": "python",
   "nbconvert_exporter": "python",
   "pygments_lexer": "ipython3",
   "version": "3.11.6"
  }
 },
 "nbformat": 4,
 "nbformat_minor": 4
}
