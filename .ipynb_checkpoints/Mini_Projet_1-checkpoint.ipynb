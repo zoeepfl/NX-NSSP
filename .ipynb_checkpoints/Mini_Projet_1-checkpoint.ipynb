{
 "cells": [
  {
   "cell_type": "markdown",
   "metadata": {},
   "source": [
    "*Please name your Example notebook as transparently as possible. Feel free to add a description of the workflow's goal. [Remove this line when creating your example]*"
   ]
  },
  {
   "cell_type": "markdown",
   "metadata": {},
   "source": [
    "# Example Notebook Template"
   ]
  },
  {
   "cell_type": "markdown",
   "metadata": {},
   "source": [
    "**Author of this template** : Michèle Masson-Trottier [Remove this line when creating your example]"
   ]
  },
  {
   "cell_type": "markdown",
   "metadata": {},
   "source": [
    "**Author**: \n",
    "*Include the name of all authors of the workflow showcased in the example notebook*.\n",
    "\n",
    "**Date**:\n",
    "\n",
    "### Citation and Resources:\n",
    "*Please include the citations for all tools, software, and publications referenced in the workflow. If you are basing your workflow on another previously published example notebook, please cite the name and DOI.*\n",
    "\n",
    "#### Tools included in this workflow\n",
    "*Cite the tools based on their preferred method (example through a Zenodo DOI or a publication)*\n",
    "\n",
    "#### Workflows this work is based on (if applicable)\n",
    "*If you started from another published workflow, please cite it here*\n",
    "\n",
    "#### Publications\n",
    "*Any publication that helped you build your example should be cited here*\n",
    "\n",
    "#### Educational resources\n",
    "*Any educational resource (for example Andy's Brain Book, FSL tutorials...) should be cited here.*\n",
    "\n",
    "#### Dataset\n",
    "*Please cite the database and dataset used in your example*"
   ]
  },
  {
   "cell_type": "markdown",
   "metadata": {},
   "source": [
    "**Optional:** Add a Table of Contents (ToC) below if it helps navigation during interactive use on Neurodesk. \n",
    "When rendered on GitHub Pages, a sidebar ToC is already available, so an inline ToC may be unnecessary.\n",
    "\n",
    "Each link must match a corresponding section heading: ` ## 1. Data Preparation → #1-Data-Preparation` (keep spaces as hyphens, preserve capital letters), as demonstrated in the next cell.\n",
    "\n",
    "\n",
    "[Remove this cell when creating your example]"
   ]
  },
  {
   "cell_type": "markdown",
   "metadata": {},
   "source": [
    "## Table of content\n",
    "[1. Data Preparation](#1.-Data-Preparation)  \n",
    "[2. Analysis](#2.-Analysis)  \n",
    "[3. Results](#3.-Results) \n",
    "\n",
    "[Remove this cell if no ToC is used in your notebook]"
   ]
  },
  {
   "cell_type": "markdown",
   "metadata": {},
   "source": [
    "## Load software tools and import python libraries"
   ]
  },
  {
   "cell_type": "markdown",
   "metadata": {},
   "source": [
    "Please have a bloc for loading the different modules needed for your example. If you can not find all the required tools in Neurodesk, feel free to add tools using the web-based GUI https://www.neurodesk.org/neurocontainers-ui/"
   ]
  },
  {
   "cell_type": "code",
   "execution_count": 1,
   "metadata": {
    "editable": true,
    "slideshow": {
     "slide_type": ""
    },
    "tags": []
   },
   "outputs": [
    {
     "ename": "ModuleNotFoundError",
     "evalue": "No module named 'module'",
     "output_type": "error",
     "traceback": [
      "\u001b[0;31m---------------------------------------------------------------------------\u001b[0m",
      "\u001b[0;31mModuleNotFoundError\u001b[0m                       Traceback (most recent call last)",
      "Cell \u001b[0;32mIn[1], line 2\u001b[0m\n\u001b[1;32m      1\u001b[0m \u001b[38;5;66;03m#load FSL 6.0.4\u001b[39;00m\n\u001b[0;32m----> 2\u001b[0m \u001b[38;5;28;01mimport\u001b[39;00m \u001b[38;5;21;01mmodule\u001b[39;00m\n\u001b[1;32m      3\u001b[0m \u001b[38;5;28;01mawait\u001b[39;00m module\u001b[38;5;241m.\u001b[39mload(\u001b[38;5;124m'\u001b[39m\u001b[38;5;124mfsl/6.0.4\u001b[39m\u001b[38;5;124m'\u001b[39m)\n\u001b[1;32m      4\u001b[0m \u001b[38;5;28;01mawait\u001b[39;00m module\u001b[38;5;241m.\u001b[39mlist()\n",
      "\u001b[0;31mModuleNotFoundError\u001b[0m: No module named 'module'"
     ]
    }
   ],
   "source": [
    "#load FSL 6.0.4\n",
    "import module\n",
    "await module.load('fsl/6.0.4')\n",
    "await module.list()"
   ]
  },
  {
   "cell_type": "markdown",
   "metadata": {},
   "source": [
    "Please consult the python packages included in the base image [see list here](https://github.com/neurodesk/neurodesktop/blob/main/Dockerfile). If you are using python packages different than these, be sure to `pip install` them in the workflow."
   ]
  },
  {
   "cell_type": "code",
   "execution_count": 2,
   "metadata": {
    "editable": true,
    "slideshow": {
     "slide_type": ""
    },
    "tags": []
   },
   "outputs": [],
   "source": [
    "%%capture \n",
    "!pip install pydicom"
   ]
  },
  {
   "cell_type": "code",
   "execution_count": 3,
   "metadata": {
    "editable": true,
    "slideshow": {
     "slide_type": ""
    },
    "tags": []
   },
   "outputs": [],
   "source": [
    "# Import the necessary libraries\n",
    "import pydicom # Library to work with DICOM files\n",
    "import matplotlib.pyplot as plt # Plotting library for displaying images\n",
    "import os # Standard library to interact with the filesystem"
   ]
  },
  {
   "cell_type": "markdown",
   "metadata": {},
   "source": [
    "## 1. Data Preparation\n",
    "*Please indicate clearly where the data is sourced. In this template, there's an example for Datalad and OSF*"
   ]
  },
  {
   "cell_type": "markdown",
   "metadata": {},
   "source": [
    "# Our code (not neurodesk template) :\n",
    "# START TO RUN FROM HERE, IGNORE CELLS ABOVE"
   ]
  },
  {
   "cell_type": "code",
   "execution_count": 1,
   "metadata": {},
   "outputs": [
    {
     "name": "stderr",
     "output_type": "stream",
     "text": [
      "Gtk-Message: 10:12:03.914: Failed to load module \"canberra-gtk-module\"\n"
     ]
    }
   ],
   "source": [
    "%gui wx\n",
    "import sys\n",
    "import os\n",
    "\n",
    "#####################\n",
    "# Import of utils.py functions\n",
    "#####################\n",
    "# Required to get utils.py and access its functions\n",
    "notebook_dir = os.path.abspath(\"\")\n",
    "parent_dir = os.path.abspath(os.path.join(notebook_dir, '..'))\n",
    "sys.path.append(parent_dir)\n",
    "sys.path.append('.')\n",
    "from utils import loadFSL, FSLeyesServer, mkdir_no_exist\n",
    "\n",
    "\n",
    "#############################\n",
    "# Loading fsl and freesurfer within Neurodesk\n",
    "# You can find the list of available other modules by clicking on the \"Softwares\" tab on the left\n",
    "#############################\n",
    "import lmod\n",
    "await lmod.purge(force=True)\n",
    "await lmod.load('fsl/6.0.7.4')\n",
    "await lmod.load('freesurfer/7.4.1')\n",
    "await lmod.list()\n",
    "\n",
    "####################\n",
    "# Setup FSL path\n",
    "####################\n",
    "loadFSL()\n",
    "\n",
    "###################\n",
    "# Load all relevant libraries for the lab\n",
    "##################\n",
    "import fsl.wrappers\n",
    "from fsl.wrappers import fslmaths\n",
    "\n",
    "import mne_nirs\n",
    "import nilearn\n",
    "from nilearn.datasets import fetch_development_fmri\n",
    "\n",
    "import mne\n",
    "import mne_nirs\n",
    "import dipy\n",
    "from dipy.data import fetch_bundles_2_subjects, read_bundles_2_subjects\n",
    "import xml.etree.ElementTree as ET\n",
    "import os.path as op\n",
    "import nibabel as nib\n",
    "import glob\n",
    "\n",
    "import ants\n",
    "\n",
    "import openneuro\n",
    "from mne.datasets import sample\n",
    "from mne_bids import BIDSPath, read_raw_bids, print_dir_tree, make_report\n",
    "\n",
    "\n",
    "# Useful imports to define the direct download function below\n",
    "import requests\n",
    "import urllib.request\n",
    "from tqdm import tqdm\n",
    "\n",
    "\n",
    "# FSL function wrappers which we will call from python directly\n",
    "from fsl.wrappers import fast, bet\n",
    "from fsl.wrappers.misc import fslroi\n",
    "from fsl.wrappers import flirt\n",
    "\n",
    "# General purpose imports to handle paths, files etc\n",
    "import glob\n",
    "import pandas as pd\n",
    "import numpy as np\n",
    "import json\n",
    "import subprocess"
   ]
  },
  {
   "cell_type": "code",
   "execution_count": 2,
   "metadata": {},
   "outputs": [],
   "source": [
    "anatomical_path = op.join(\"subject101410\", \"T1w\", \"T1w.nii.gz\") #the original brain\n",
    "subject_id = '101410'"
   ]
  },
  {
   "cell_type": "code",
   "execution_count": 3,
   "metadata": {},
   "outputs": [
    {
     "name": "stdout",
     "output_type": "stream",
     "text": [
      "Derivatives will be written to: /data/derivatives/preprocessed_data/subject_101410\n"
     ]
    }
   ],
   "source": [
    "derivatives = op.join(\"derivatives\", \"preprocessed_data\", \"subject_101410\")\n",
    "deriv_anat = op.join(derivatives, \"anat\")\n",
    "deriv_func = op.join(derivatives, \"func\")\n",
    "\n",
    "for d in (deriv_anat, deriv_func):\n",
    "    os.makedirs(d, exist_ok=True)\n",
    "\n",
    "print(\"Derivatives will be written to:\", os.path.abspath(derivatives))"
   ]
  },
  {
   "cell_type": "code",
   "execution_count": 6,
   "metadata": {},
   "outputs": [],
   "source": [
    "#bids_root   = \"/data/NX-NSSP\"  \n",
    "#preproc_root = op.join(bids_root, 'derivatives','preprocessed_data')\n",
    "#deriv_root = op.join(bids_root, 'derivatives')"
   ]
  },
  {
   "cell_type": "code",
   "execution_count": 5,
   "metadata": {},
   "outputs": [
    {
     "name": "stderr",
     "output_type": "stream",
     "text": [
      "10:12:30: Debug: Adding duplicate image handler for 'Windows bitmap file'\n",
      "10:12:30: Debug: Adding duplicate animation handler for '1' type\n",
      "10:12:30: Debug: Adding duplicate animation handler for '2' type\n",
      "10:12:30: Debug: Adding duplicate image handler for 'Windows bitmap file'\n",
      "10:12:30: Debug: Adding duplicate animation handler for '1' type\n",
      "10:12:30: Debug: Adding duplicate animation handler for '2' type\n",
      "\n",
      "(ipykernel_launcher.py:456): Gtk-CRITICAL **: 10:12:30.965: gtk_window_resize: assertion 'height > 0' failed\n"
     ]
    }
   ],
   "source": [
    "fsleyesDisplay = FSLeyesServer()\n",
    "fsleyesDisplay.show()"
   ]
  },
  {
   "cell_type": "code",
   "execution_count": 6,
   "metadata": {},
   "outputs": [
    {
     "name": "stderr",
     "output_type": "stream",
     "text": [
      "\n",
      "(ipykernel_launcher.py:456): Gdk-WARNING **: 10:12:44.218: gdkdrawable-x11.c:952 drawable is not a pixmap or window\n"
     ]
    }
   ],
   "source": [
    "fsleyesDisplay.resetOverlays()\n",
    "fsleyesDisplay.load(anatomical_path)"
   ]
  },
  {
   "cell_type": "code",
   "execution_count": 9,
   "metadata": {},
   "outputs": [
    {
     "name": "stdout",
     "output_type": "stream",
     "text": [
      "Done with BET.\n"
     ]
    }
   ],
   "source": [
    "def get_skull_stripped_anatomical(deriv_anat, anatomical_path, subject_id, robust=False):\n",
    "    \"\"\"\n",
    "    Function to perform skull-stripping (removing the skull around the brain).\n",
    "    This is a simple wrapper around the brain extraction tool (BET) in FSL's suite\n",
    "    It assumes data to be in the BIDS format (which we will cover in the following weeks).\n",
    "    The method also saves the brain mask which was used to extract the brain.\n",
    "\n",
    "    The brain extraction is conducted only on the T1w of the participant.\n",
    "\n",
    "    Parameters\n",
    "    ----------\n",
    "    subject_id: string\n",
    "        Subject ID, the subject on which brain extraction should be conducted.\n",
    "    robust: bool\n",
    "        Whether to conduct robust center estimation with BET or not. Default is False.\n",
    "    \"\"\"\n",
    "    # We perform here skull stripping (you'll learn more about it next week!).\n",
    "    # For now all you need to do is that we remove the bones and flesh from the MRI to get the brain!\n",
    "    betted_brain_path = op.join(deriv_anat, 'sub-{}_T1w'.format(subject_id))\n",
    "    os.system('bet {} {} -m {}'.format(anatomical_path, betted_brain_path, '-R' if robust else ''))\n",
    "    print(\"Done with BET.\")\n",
    "\n",
    "resulting_mask_path = op.join(deriv_anat, 'sub-101410_T1w_mask')\n",
    "get_skull_stripped_anatomical(deriv_anat, anatomical_path, subject_id, robust=True)"
   ]
  },
  {
   "cell_type": "code",
   "execution_count": 10,
   "metadata": {},
   "outputs": [],
   "source": [
    "fsleyesDisplay.load(resulting_mask_path)"
   ]
  },
  {
   "cell_type": "code",
   "execution_count": 11,
   "metadata": {},
   "outputs": [],
   "source": [
    "def apply_fsl_math_approach(img_path, mask_path, masked_img_path):\n",
    "    os.system('fslmaths {} -mas {} {}'.format(img_path, mask_path, masked_img_path))\n",
    "    \n",
    "betted_brain_path = op.join(deriv_anat, 'sub-101410_T1w.nii.gz') # The brain without skull is in the derivatives folder\n",
    "resulting_mask_path = op.join(deriv_anat, 'sub-101410_T1w_mask.nii.gz') # The mask to use\n",
    "\n",
    "apply_fsl_math_approach(anatomical_path, resulting_mask_path, betted_brain_path)"
   ]
  },
  {
   "cell_type": "code",
   "execution_count": 12,
   "metadata": {},
   "outputs": [],
   "source": [
    "fsleyesDisplay.resetOverlays()\n",
    "fsleyesDisplay.load(betted_brain_path)"
   ]
  },
  {
   "cell_type": "markdown",
   "metadata": {},
   "source": [
    "## 1)b) Segmentation"
   ]
  },
  {
   "cell_type": "code",
   "execution_count": 13,
   "metadata": {},
   "outputs": [
    {
     "data": {
      "text/plain": [
       "{}"
      ]
     },
     "execution_count": 13,
     "metadata": {},
     "output_type": "execute_result"
    }
   ],
   "source": [
    "bet_path = op.join(deriv_anat, 'sub-101410_T1w')\n",
    "fast_target = bet_path # Replace with either anatomical_path or bet_path (note: you can try both and decide which is more reasonable!)\n",
    "\n",
    "[os.remove(f) for f in glob.glob(op.join(deriv_anat, '*fast*'))] # Just to clean the directory in between runs of the cell\n",
    "segmentation_path = op.join(deriv_anat, 'sub-101410_T1w_fast')\n",
    "fast(imgs=[fast_target], out=segmentation_path, n_classes=3)"
   ]
  },
  {
   "cell_type": "markdown",
   "metadata": {},
   "source": [
    "pve_0 is CSF, pve_1 is grey matter, pve_2 is white matter"
   ]
  },
  {
   "cell_type": "code",
   "execution_count": 15,
   "metadata": {},
   "outputs": [],
   "source": [
    "fsleyesDisplay.resetOverlays()\n",
    "fsleyesDisplay.load(bet_path)\n",
    "fsleyesDisplay.load(glob.glob(op.join(deriv_anat,'*pve_0*'))[0])\n",
    "fsleyesDisplay.load(glob.glob(op.join(deriv_anat,'*pve_1*'))[0])\n",
    "fsleyesDisplay.load(glob.glob(op.join(deriv_anat,'*pve_2*'))[0])\n",
    "fsleyesDisplay.displayCtx.getOpts(fsleyesDisplay.overlayList[1]).cmap = 'Red'\n",
    "fsleyesDisplay.displayCtx.getOpts(fsleyesDisplay.overlayList[2]).cmap = 'Green'\n",
    "fsleyesDisplay.displayCtx.getOpts(fsleyesDisplay.overlayList[3]).cmap = 'Blue'"
   ]
  },
  {
   "cell_type": "markdown",
   "metadata": {},
   "source": [
    "## 2)a) Concatenation"
   ]
  },
  {
   "cell_type": "code",
   "execution_count": 16,
   "metadata": {},
   "outputs": [
    {
     "name": "stdout",
     "output_type": "stream",
     "text": [
      "Functional paths have been created\n"
     ]
    }
   ],
   "source": [
    "#prochaine run commence à 189+15.5\n",
    "\n",
    "functional_path_LR = op.join(\"subject101410\", \"fMRI\", \"tfMRI_MOTOR_LR\", \"tfMRI_MOTOR_LR.nii\") \n",
    "functional_path_RL = op.join(\"subject101410\", \"fMRI\", \"tfMRI_MOTOR_RL\", \"tfMRI_MOTOR_RL.nii\") \n",
    "print(\"Functional paths have been created\")"
   ]
  },
  {
   "cell_type": "code",
   "execution_count": 17,
   "metadata": {},
   "outputs": [
    {
     "name": "stdout",
     "output_type": "stream",
     "text": [
      "Normalizing variance for LR run\n"
     ]
    },
    {
     "ename": "OSError",
     "evalue": "Expected 1025386544 bytes, got 491650720 bytes from subject101410/fMRI/tfMRI_MOTOR_LR/tfMRI_MOTOR_LR.nii\n - could the file be damaged?",
     "output_type": "error",
     "traceback": [
      "\u001b[0;31m---------------------------------------------------------------------------\u001b[0m",
      "\u001b[0;31mOSError\u001b[0m                                   Traceback (most recent call last)",
      "Cell \u001b[0;32mIn[17], line 9\u001b[0m\n\u001b[1;32m      6\u001b[0m \u001b[38;5;28mprint\u001b[39m(\u001b[38;5;124m\"\u001b[39m\u001b[38;5;124mNormalizing variance for LR run\u001b[39m\u001b[38;5;124m\"\u001b[39m)\n\u001b[1;32m      8\u001b[0m img_LR \u001b[38;5;241m=\u001b[39m nib\u001b[38;5;241m.\u001b[39mload(functional_path_LR)\n\u001b[0;32m----> 9\u001b[0m data_LR \u001b[38;5;241m=\u001b[39m \u001b[43mimg_LR\u001b[49m\u001b[38;5;241;43m.\u001b[39;49m\u001b[43mget_fdata\u001b[49m\u001b[43m(\u001b[49m\u001b[43m)\u001b[49m\n\u001b[1;32m     10\u001b[0m affine_LR \u001b[38;5;241m=\u001b[39m img_LR\u001b[38;5;241m.\u001b[39maffine\n\u001b[1;32m     11\u001b[0m header_LR \u001b[38;5;241m=\u001b[39m img_LR\u001b[38;5;241m.\u001b[39mheader\n",
      "File \u001b[0;32m/opt/conda/lib/python3.11/site-packages/nibabel/dataobj_images.py:373\u001b[0m, in \u001b[0;36mDataobjImage.get_fdata\u001b[0;34m(self, caching, dtype)\u001b[0m\n\u001b[1;32m    369\u001b[0m         \u001b[38;5;28;01mreturn\u001b[39;00m \u001b[38;5;28mself\u001b[39m\u001b[38;5;241m.\u001b[39m_fdata_cache\n\u001b[1;32m    370\u001b[0m \u001b[38;5;66;03m# Always return requested data type\u001b[39;00m\n\u001b[1;32m    371\u001b[0m \u001b[38;5;66;03m# For array proxies, will attempt to confine data array to dtype\u001b[39;00m\n\u001b[1;32m    372\u001b[0m \u001b[38;5;66;03m# during scaling\u001b[39;00m\n\u001b[0;32m--> 373\u001b[0m data \u001b[38;5;241m=\u001b[39m \u001b[43mnp\u001b[49m\u001b[38;5;241;43m.\u001b[39;49m\u001b[43masanyarray\u001b[49m\u001b[43m(\u001b[49m\u001b[38;5;28;43mself\u001b[39;49m\u001b[38;5;241;43m.\u001b[39;49m\u001b[43m_dataobj\u001b[49m\u001b[43m,\u001b[49m\u001b[43m \u001b[49m\u001b[43mdtype\u001b[49m\u001b[38;5;241;43m=\u001b[39;49m\u001b[43mdtype\u001b[49m\u001b[43m)\u001b[49m\n\u001b[1;32m    374\u001b[0m \u001b[38;5;28;01mif\u001b[39;00m caching \u001b[38;5;241m==\u001b[39m \u001b[38;5;124m'\u001b[39m\u001b[38;5;124mfill\u001b[39m\u001b[38;5;124m'\u001b[39m:\n\u001b[1;32m    375\u001b[0m     \u001b[38;5;28mself\u001b[39m\u001b[38;5;241m.\u001b[39m_fdata_cache \u001b[38;5;241m=\u001b[39m data\n",
      "File \u001b[0;32m/opt/conda/lib/python3.11/site-packages/nibabel/arrayproxy.py:457\u001b[0m, in \u001b[0;36mArrayProxy.__array__\u001b[0;34m(self, dtype)\u001b[0m\n\u001b[1;32m    436\u001b[0m \u001b[38;5;28;01mdef\u001b[39;00m \u001b[38;5;21m__array__\u001b[39m(\u001b[38;5;28mself\u001b[39m, dtype\u001b[38;5;241m=\u001b[39m\u001b[38;5;28;01mNone\u001b[39;00m):\n\u001b[1;32m    437\u001b[0m \u001b[38;5;250m    \u001b[39m\u001b[38;5;124;03m\"\"\"Read data from file and apply scaling, casting to ``dtype``\u001b[39;00m\n\u001b[1;32m    438\u001b[0m \n\u001b[1;32m    439\u001b[0m \u001b[38;5;124;03m    If ``dtype`` is unspecified, the dtype of the returned array is the\u001b[39;00m\n\u001b[0;32m   (...)\u001b[0m\n\u001b[1;32m    455\u001b[0m \u001b[38;5;124;03m        Scaled image data with type `dtype`.\u001b[39;00m\n\u001b[1;32m    456\u001b[0m \u001b[38;5;124;03m    \"\"\"\u001b[39;00m\n\u001b[0;32m--> 457\u001b[0m     arr \u001b[38;5;241m=\u001b[39m \u001b[38;5;28;43mself\u001b[39;49m\u001b[38;5;241;43m.\u001b[39;49m\u001b[43m_get_scaled\u001b[49m\u001b[43m(\u001b[49m\u001b[43mdtype\u001b[49m\u001b[38;5;241;43m=\u001b[39;49m\u001b[43mdtype\u001b[49m\u001b[43m,\u001b[49m\u001b[43m \u001b[49m\u001b[43mslicer\u001b[49m\u001b[38;5;241;43m=\u001b[39;49m\u001b[43m(\u001b[49m\u001b[43m)\u001b[49m\u001b[43m)\u001b[49m\n\u001b[1;32m    458\u001b[0m     \u001b[38;5;28;01mif\u001b[39;00m dtype \u001b[38;5;129;01mis\u001b[39;00m \u001b[38;5;129;01mnot\u001b[39;00m \u001b[38;5;28;01mNone\u001b[39;00m:\n\u001b[1;32m    459\u001b[0m         arr \u001b[38;5;241m=\u001b[39m arr\u001b[38;5;241m.\u001b[39mastype(dtype, copy\u001b[38;5;241m=\u001b[39m\u001b[38;5;28;01mFalse\u001b[39;00m)\n",
      "File \u001b[0;32m/opt/conda/lib/python3.11/site-packages/nibabel/arrayproxy.py:424\u001b[0m, in \u001b[0;36mArrayProxy._get_scaled\u001b[0;34m(self, dtype, slicer)\u001b[0m\n\u001b[1;32m    422\u001b[0m     scl_inter \u001b[38;5;241m=\u001b[39m scl_inter\u001b[38;5;241m.\u001b[39mastype(use_dtype)\n\u001b[1;32m    423\u001b[0m \u001b[38;5;66;03m# Read array and upcast as necessary for big slopes, intercepts\u001b[39;00m\n\u001b[0;32m--> 424\u001b[0m scaled \u001b[38;5;241m=\u001b[39m apply_read_scaling(\u001b[38;5;28;43mself\u001b[39;49m\u001b[38;5;241;43m.\u001b[39;49m\u001b[43m_get_unscaled\u001b[49m\u001b[43m(\u001b[49m\u001b[43mslicer\u001b[49m\u001b[38;5;241;43m=\u001b[39;49m\u001b[43mslicer\u001b[49m\u001b[43m)\u001b[49m, scl_slope, scl_inter)\n\u001b[1;32m    425\u001b[0m \u001b[38;5;28;01mif\u001b[39;00m dtype \u001b[38;5;129;01mis\u001b[39;00m \u001b[38;5;129;01mnot\u001b[39;00m \u001b[38;5;28;01mNone\u001b[39;00m:\n\u001b[1;32m    426\u001b[0m     scaled \u001b[38;5;241m=\u001b[39m scaled\u001b[38;5;241m.\u001b[39mastype(np\u001b[38;5;241m.\u001b[39mpromote_types(scaled\u001b[38;5;241m.\u001b[39mdtype, dtype), copy\u001b[38;5;241m=\u001b[39m\u001b[38;5;28;01mFalse\u001b[39;00m)\n",
      "File \u001b[0;32m/opt/conda/lib/python3.11/site-packages/nibabel/arrayproxy.py:394\u001b[0m, in \u001b[0;36mArrayProxy._get_unscaled\u001b[0;34m(self, slicer)\u001b[0m\n\u001b[1;32m    390\u001b[0m \u001b[38;5;28;01mif\u001b[39;00m canonical_slicers(slicer, \u001b[38;5;28mself\u001b[39m\u001b[38;5;241m.\u001b[39m_shape, \u001b[38;5;28;01mFalse\u001b[39;00m) \u001b[38;5;241m==\u001b[39m canonical_slicers(\n\u001b[1;32m    391\u001b[0m     (), \u001b[38;5;28mself\u001b[39m\u001b[38;5;241m.\u001b[39m_shape, \u001b[38;5;28;01mFalse\u001b[39;00m\n\u001b[1;32m    392\u001b[0m ):\n\u001b[1;32m    393\u001b[0m     \u001b[38;5;28;01mwith\u001b[39;00m \u001b[38;5;28mself\u001b[39m\u001b[38;5;241m.\u001b[39m_get_fileobj() \u001b[38;5;28;01mas\u001b[39;00m fileobj, \u001b[38;5;28mself\u001b[39m\u001b[38;5;241m.\u001b[39m_lock:\n\u001b[0;32m--> 394\u001b[0m         \u001b[38;5;28;01mreturn\u001b[39;00m \u001b[43marray_from_file\u001b[49m\u001b[43m(\u001b[49m\n\u001b[1;32m    395\u001b[0m \u001b[43m            \u001b[49m\u001b[38;5;28;43mself\u001b[39;49m\u001b[38;5;241;43m.\u001b[39;49m\u001b[43m_shape\u001b[49m\u001b[43m,\u001b[49m\n\u001b[1;32m    396\u001b[0m \u001b[43m            \u001b[49m\u001b[38;5;28;43mself\u001b[39;49m\u001b[38;5;241;43m.\u001b[39;49m\u001b[43m_dtype\u001b[49m\u001b[43m,\u001b[49m\n\u001b[1;32m    397\u001b[0m \u001b[43m            \u001b[49m\u001b[43mfileobj\u001b[49m\u001b[43m,\u001b[49m\n\u001b[1;32m    398\u001b[0m \u001b[43m            \u001b[49m\u001b[43moffset\u001b[49m\u001b[38;5;241;43m=\u001b[39;49m\u001b[38;5;28;43mself\u001b[39;49m\u001b[38;5;241;43m.\u001b[39;49m\u001b[43m_offset\u001b[49m\u001b[43m,\u001b[49m\n\u001b[1;32m    399\u001b[0m \u001b[43m            \u001b[49m\u001b[43morder\u001b[49m\u001b[38;5;241;43m=\u001b[39;49m\u001b[38;5;28;43mself\u001b[39;49m\u001b[38;5;241;43m.\u001b[39;49m\u001b[43morder\u001b[49m\u001b[43m,\u001b[49m\n\u001b[1;32m    400\u001b[0m \u001b[43m            \u001b[49m\u001b[43mmmap\u001b[49m\u001b[38;5;241;43m=\u001b[39;49m\u001b[38;5;28;43mself\u001b[39;49m\u001b[38;5;241;43m.\u001b[39;49m\u001b[43m_mmap\u001b[49m\u001b[43m,\u001b[49m\n\u001b[1;32m    401\u001b[0m \u001b[43m        \u001b[49m\u001b[43m)\u001b[49m\n\u001b[1;32m    402\u001b[0m \u001b[38;5;28;01mwith\u001b[39;00m \u001b[38;5;28mself\u001b[39m\u001b[38;5;241m.\u001b[39m_get_fileobj() \u001b[38;5;28;01mas\u001b[39;00m fileobj:\n\u001b[1;32m    403\u001b[0m     \u001b[38;5;28;01mreturn\u001b[39;00m fileslice(\n\u001b[1;32m    404\u001b[0m         fileobj,\n\u001b[1;32m    405\u001b[0m         slicer,\n\u001b[0;32m   (...)\u001b[0m\n\u001b[1;32m    410\u001b[0m         lock\u001b[38;5;241m=\u001b[39m\u001b[38;5;28mself\u001b[39m\u001b[38;5;241m.\u001b[39m_lock,\n\u001b[1;32m    411\u001b[0m     )\n",
      "File \u001b[0;32m/opt/conda/lib/python3.11/site-packages/nibabel/volumeutils.py:472\u001b[0m, in \u001b[0;36marray_from_file\u001b[0;34m(shape, in_dtype, infile, offset, order, mmap)\u001b[0m\n\u001b[1;32m    470\u001b[0m     needs_copy \u001b[38;5;241m=\u001b[39m \u001b[38;5;28;01mTrue\u001b[39;00m\n\u001b[1;32m    471\u001b[0m \u001b[38;5;28;01mif\u001b[39;00m n_bytes \u001b[38;5;241m!=\u001b[39m n_read:\n\u001b[0;32m--> 472\u001b[0m     \u001b[38;5;28;01mraise\u001b[39;00m \u001b[38;5;167;01mOSError\u001b[39;00m(\n\u001b[1;32m    473\u001b[0m         \u001b[38;5;124mf\u001b[39m\u001b[38;5;124m'\u001b[39m\u001b[38;5;124mExpected \u001b[39m\u001b[38;5;132;01m{\u001b[39;00mn_bytes\u001b[38;5;132;01m}\u001b[39;00m\u001b[38;5;124m bytes, got \u001b[39m\u001b[38;5;132;01m{\u001b[39;00mn_read\u001b[38;5;132;01m}\u001b[39;00m\u001b[38;5;124m bytes from \u001b[39m\u001b[38;5;124m'\u001b[39m\n\u001b[1;32m    474\u001b[0m         \u001b[38;5;124mf\u001b[39m\u001b[38;5;124m\"\u001b[39m\u001b[38;5;132;01m{\u001b[39;00m\u001b[38;5;28mgetattr\u001b[39m(infile,\u001b[38;5;250m \u001b[39m\u001b[38;5;124m'\u001b[39m\u001b[38;5;124mname\u001b[39m\u001b[38;5;124m'\u001b[39m,\u001b[38;5;250m \u001b[39m\u001b[38;5;124m'\u001b[39m\u001b[38;5;124mobject\u001b[39m\u001b[38;5;124m'\u001b[39m)\u001b[38;5;132;01m}\u001b[39;00m\u001b[38;5;130;01m\\n\u001b[39;00m\u001b[38;5;124m - could the file be damaged?\u001b[39m\u001b[38;5;124m\"\u001b[39m\n\u001b[1;32m    475\u001b[0m     )\n\u001b[1;32m    476\u001b[0m arr: np\u001b[38;5;241m.\u001b[39mndarray \u001b[38;5;241m=\u001b[39m np\u001b[38;5;241m.\u001b[39mndarray(shape, in_dtype, buffer\u001b[38;5;241m=\u001b[39mdata_bytes, order\u001b[38;5;241m=\u001b[39morder)\n\u001b[1;32m    477\u001b[0m \u001b[38;5;28;01mif\u001b[39;00m needs_copy:\n",
      "\u001b[0;31mOSError\u001b[0m: Expected 1025386544 bytes, got 491650720 bytes from subject101410/fMRI/tfMRI_MOTOR_LR/tfMRI_MOTOR_LR.nii\n - could the file be damaged?"
     ]
    }
   ],
   "source": [
    "# LA CONCATENATION ENGENDRE UN MANQUE D'ESPACE !!!!!!!!!!!!!!!!!!!!!!!!\n",
    "\n",
    "###########################################\n",
    "# Normalisation de variance - Run LR\n",
    "###########################################\n",
    "print(\"Normalizing variance for LR run\")\n",
    "\n",
    "img_LR = nib.load(functional_path_LR)\n",
    "data_LR = img_LR.get_fdata()\n",
    "affine_LR = img_LR.affine\n",
    "header_LR = img_LR.header\n",
    "\n",
    "mask_img = nib.load(resulting_mask_path)            # charge le fichier du masque depuis le disque\n",
    "mask_data = mask_img.get_fdata().astype(bool)       # convertit en tableau booléen (True = voxels du cerveau)\n",
    "\n",
    "# Vérifie que le masque et les données fonctionnelles ont la même taille\n",
    "if mask_data.shape != data_LR.shape[:3]:\n",
    "    print(\"Dimensions mismatch: resampling mask for LR run.\")\n",
    "    resampled_mask_LR = op.join(deriv_func, \"mask_LR_resampled.nii.gz\")\n",
    "    subprocess.run([\"flirt\", \"-in\", resulting_mask_path, \"-ref\", functional_path_LR, \"-applyxfm\", \"-usesqform\", \"-out\", resampled_mask_LR], check=True)\n",
    "    mask_data = nib.load(resampled_mask_LR).get_fdata().astype(bool)\n",
    "\n",
    "# Calcul de la variance globale sur les voxels du cerveau\n",
    "brain_voxels_LR = data_LR[mask_data]\n",
    "var_voxels_LR = brain_voxels_LR.var(axis=1)\n",
    "global_var_LR = var_voxels_LR.mean()\n",
    "scale_LR = 1 / np.sqrt(global_var_LR)\n",
    "print(f\"Global variance (LR): {global_var_LR:.6g}, scale factor: {scale_LR:.6g}\")\n",
    "\n",
    "# Normalisation\n",
    "data_LR_scaled = data_LR * scale_LR\n",
    "\n",
    "# Sauvegarde\n",
    "scaled_LR_path = op.join(deriv_func, \"tfMRI_MOTOR_LR_varscaled.nii.gz\")\n",
    "nib.save(nib.Nifti1Image(data_LR_scaled.astype(np.float32), affine_LR, header_LR), scaled_LR_path)\n",
    "print(f\"Saved normalized LR run: {scaled_LR_path}\\n\")\n",
    "\n",
    "###########################################\n",
    "# Normalisation de variance - Run RL\n",
    "###########################################\n",
    "print(\"Normalizing variance for RL run\")\n",
    "\n",
    "img_RL = nib.load(functional_path_RL)\n",
    "data_RL = img_RL.get_fdata()\n",
    "affine_RL = img_RL.affine\n",
    "header_RL = img_RL.header\n",
    "\n",
    "if mask_data.shape != data_RL.shape[:3]:\n",
    "    print(\"Dimensions mismatch: resampling mask for RL run.\")\n",
    "    resampled_mask_RL = op.join(deriv_func, \"mask_RL_resampled.nii.gz\")\n",
    "    subprocess.run([\"flirt\", \"-in\", resulting_mask_path, \"-ref\", functional_path_RL, \"-applyxfm\", \"-usesqform\", \"-out\", resampled_mask_RL], check=True)\n",
    "    mask_data = nib.load(resampled_mask_RL).get_fdata().astype(bool)\n",
    "\n",
    "brain_voxels_RL = data_RL[mask_data]\n",
    "var_voxels_RL = brain_voxels_RL.var(axis=1)\n",
    "global_var_RL = var_voxels_RL.mean()\n",
    "scale_RL = 1 / np.sqrt(global_var_RL)\n",
    "print(f\" Global variance (RL): {global_var_RL:.6g}, scale factor: {scale_RL:.6g}\")\n",
    "\n",
    "data_RL_scaled = data_RL * scale_RL\n",
    "\n",
    "scaled_RL_path = op.join(deriv_func, \"tfMRI_MOTOR_RL_varscaled.nii.gz\")\n",
    "nib.save(nib.Nifti1Image(data_RL_scaled.astype(np.float32), affine_RL, header_RL), scaled_RL_path)\n",
    "print(f\" Saved normalized RL run: {scaled_RL_path}\\n\")\n",
    "\n",
    "###########################################\n",
    "# Concaténation temporelle des deux runs\n",
    "###########################################\n",
    "print(\" Concatenating normalized runs...\")\n",
    "\n",
    "img_LR_scaled = nib.load(scaled_LR_path)\n",
    "img_RL_scaled = nib.load(scaled_RL_path)\n",
    "\n",
    "concat_img = nib.concat_images([img_LR_scaled, img_RL_scaled], axis=-1)\n",
    "concat_path = op.join(deriv_func, f\"sub-{subject_id}_motor_concat_varscaled.nii.gz\")\n",
    "\n",
    "nib.save(concat_img, concat_path)\n",
    "print(f\" Done! Final concatenated file: {concat_path}\")\n"
   ]
  },
  {
   "cell_type": "markdown",
   "metadata": {},
   "source": [
    "## 2)b) Motion correction"
   ]
  },
  {
   "cell_type": "code",
   "execution_count": 18,
   "metadata": {},
   "outputs": [
    {
     "name": "stderr",
     "output_type": "stream",
     "text": [
      "Processed data will be saved as derivatives/preprocessed_data/subject_101410/func/tfMRI_MOTOR_LR_motioncorrected\n",
      "\n",
      "McFLIRT v 2.0 - FMRI motion correction\n",
      "\n",
      "Reading time series... \n",
      "Image Exception : #22 :: Failed to read volume subject101410/fMRI/tfMRI_MOTOR_LR/tfMRI_MOTOR_LR.nii\n",
      "Error : Error: short read, file may be truncated\n",
      "terminate called after throwing an instance of 'std::runtime_error'\n",
      "  what():  Failed to read volume subject101410/fMRI/tfMRI_MOTOR_LR/tfMRI_MOTOR_LR.nii\n",
      "Error : Error: short read, file may be truncated\n"
     ]
    },
    {
     "ename": "RuntimeError",
     "evalue": "/cvmfs/neurodesk.ardc.edu.au/containers/fsl_6.0.7.4_20231005/fsl_6.0.7.4_20231005.simg/opt/fsl-6.0.7.4/bin/mcflirt returned non-zero exit code: -6",
     "output_type": "error",
     "traceback": [
      "\u001b[0;31m---------------------------------------------------------------------------\u001b[0m",
      "\u001b[0;31mRuntimeError\u001b[0m                              Traceback (most recent call last)",
      "Cell \u001b[0;32mIn[18], line 6\u001b[0m\n\u001b[1;32m      3\u001b[0m path_motioncorr_LR \u001b[38;5;241m=\u001b[39m op\u001b[38;5;241m.\u001b[39mjoin(deriv_func, \u001b[38;5;124m\"\u001b[39m\u001b[38;5;124mtfMRI_MOTOR_LR_motioncorrected\u001b[39m\u001b[38;5;124m\"\u001b[39m)            \u001b[38;5;66;03m# path to the motion corrected file\u001b[39;00m\n\u001b[1;32m      4\u001b[0m path_motioncorr_RL \u001b[38;5;241m=\u001b[39m op\u001b[38;5;241m.\u001b[39mjoin(deriv_func, \u001b[38;5;124m\"\u001b[39m\u001b[38;5;124mtfMRI_MOTOR_RL_motioncorrected\u001b[39m\u001b[38;5;124m\"\u001b[39m)            \u001b[38;5;66;03m# path to the motion corrected file\u001b[39;00m\n\u001b[0;32m----> 6\u001b[0m \u001b[43mmcflirt\u001b[49m\u001b[43m(\u001b[49m\u001b[43minfile\u001b[49m\u001b[38;5;241;43m=\u001b[39;49m\u001b[43mfunctional_path_LR\u001b[49m\u001b[43m,\u001b[49m\u001b[43m \u001b[49m\u001b[43mo\u001b[49m\u001b[38;5;241;43m=\u001b[39;49m\u001b[43mpath_motioncorr_LR\u001b[49m\u001b[43m,\u001b[49m\u001b[43m \u001b[49m\u001b[43mplots\u001b[49m\u001b[38;5;241;43m=\u001b[39;49m\u001b[38;5;28;43;01mTrue\u001b[39;49;00m\u001b[43m,\u001b[49m\u001b[43m \u001b[49m\u001b[43mreport\u001b[49m\u001b[38;5;241;43m=\u001b[39;49m\u001b[38;5;28;43;01mTrue\u001b[39;49;00m\u001b[43m,\u001b[49m\u001b[43m \u001b[49m\u001b[43mdof\u001b[49m\u001b[38;5;241;43m=\u001b[39;49m\u001b[38;5;241;43m6\u001b[39;49m\u001b[43m,\u001b[49m\u001b[43m \u001b[49m\u001b[43mmats\u001b[49m\u001b[38;5;241;43m=\u001b[39;49m\u001b[38;5;28;43;01mTrue\u001b[39;49;00m\u001b[43m)\u001b[49m\n\u001b[1;32m      7\u001b[0m \u001b[38;5;28mprint\u001b[39m(\u001b[38;5;124m\"\u001b[39m\u001b[38;5;124mMotor LR corrected\u001b[39m\u001b[38;5;124m\"\u001b[39m)\n\u001b[1;32m      8\u001b[0m mcflirt(infile\u001b[38;5;241m=\u001b[39mfunctional_path_RL, o\u001b[38;5;241m=\u001b[39mpath_motioncorr_RL, plots\u001b[38;5;241m=\u001b[39m\u001b[38;5;28;01mTrue\u001b[39;00m, report\u001b[38;5;241m=\u001b[39m\u001b[38;5;28;01mTrue\u001b[39;00m, dof\u001b[38;5;241m=\u001b[39m\u001b[38;5;241m6\u001b[39m, mats\u001b[38;5;241m=\u001b[39m\u001b[38;5;28;01mTrue\u001b[39;00m)\n",
      "File \u001b[0;32m/opt/conda/lib/python3.11/site-packages/fsl/wrappers/wrapperutils.py:1309\u001b[0m, in \u001b[0;36mfileOrImage.<locals>.decorator.<locals>.wrapper\u001b[0;34m(*args, **kwargs)\u001b[0m\n\u001b[1;32m   1308\u001b[0m \u001b[38;5;28;01mdef\u001b[39;00m \u001b[38;5;21mwrapper\u001b[39m(\u001b[38;5;241m*\u001b[39margs, \u001b[38;5;241m*\u001b[39m\u001b[38;5;241m*\u001b[39mkwargs):\n\u001b[0;32m-> 1309\u001b[0m     result \u001b[38;5;241m=\u001b[39m \u001b[43mfot\u001b[49m\u001b[43m(\u001b[49m\u001b[38;5;241;43m*\u001b[39;49m\u001b[43margs\u001b[49m\u001b[43m,\u001b[49m\u001b[43m \u001b[49m\u001b[38;5;241;43m*\u001b[39;49m\u001b[38;5;241;43m*\u001b[39;49m\u001b[43mkwargs\u001b[49m\u001b[43m)\u001b[49m\n\u001b[1;32m   1310\u001b[0m     intypes[:] \u001b[38;5;241m=\u001b[39m []\n\u001b[1;32m   1311\u001b[0m     \u001b[38;5;28;01mreturn\u001b[39;00m result\n",
      "File \u001b[0;32m/opt/conda/lib/python3.11/site-packages/fsl/wrappers/wrapperutils.py:947\u001b[0m, in \u001b[0;36mFileOrThing.__call__\u001b[0;34m(self, *args, **kwargs)\u001b[0m\n\u001b[1;32m    945\u001b[0m \u001b[38;5;66;03m# Call the function\u001b[39;00m\n\u001b[1;32m    946\u001b[0m \u001b[38;5;28;01mtry\u001b[39;00m:\n\u001b[0;32m--> 947\u001b[0m     result \u001b[38;5;241m=\u001b[39m \u001b[43mfunc\u001b[49m\u001b[43m(\u001b[49m\u001b[38;5;241;43m*\u001b[39;49m\u001b[43margs\u001b[49m\u001b[43m,\u001b[49m\u001b[43m \u001b[49m\u001b[38;5;241;43m*\u001b[39;49m\u001b[38;5;241;43m*\u001b[39;49m\u001b[43mkwargs\u001b[49m\u001b[43m)\u001b[49m\n\u001b[1;32m    949\u001b[0m \u001b[38;5;28;01mfinally\u001b[39;00m:\n\u001b[1;32m    950\u001b[0m     \u001b[38;5;66;03m# if we're the top-level FileOrThing\u001b[39;00m\n\u001b[1;32m    951\u001b[0m     \u001b[38;5;66;03m# decorator, remove the attributes we\u001b[39;00m\n\u001b[1;32m    952\u001b[0m     \u001b[38;5;66;03m# added above.\u001b[39;00m\n\u001b[1;32m    953\u001b[0m     \u001b[38;5;28;01mif\u001b[39;00m parent:\n",
      "File \u001b[0;32m/opt/conda/lib/python3.11/site-packages/fsl/wrappers/wrapperutils.py:1351\u001b[0m, in \u001b[0;36mfileOrArray.<locals>.decorator.<locals>.wrapper\u001b[0;34m(*args, **kwargs)\u001b[0m\n\u001b[1;32m   1350\u001b[0m \u001b[38;5;28;01mdef\u001b[39;00m \u001b[38;5;21mwrapper\u001b[39m(\u001b[38;5;241m*\u001b[39margs, \u001b[38;5;241m*\u001b[39m\u001b[38;5;241m*\u001b[39mkwargs):\n\u001b[0;32m-> 1351\u001b[0m     \u001b[38;5;28;01mreturn\u001b[39;00m \u001b[43mfot\u001b[49m\u001b[43m(\u001b[49m\u001b[38;5;241;43m*\u001b[39;49m\u001b[43margs\u001b[49m\u001b[43m,\u001b[49m\u001b[43m \u001b[49m\u001b[38;5;241;43m*\u001b[39;49m\u001b[38;5;241;43m*\u001b[39;49m\u001b[43mkwargs\u001b[49m\u001b[43m)\u001b[49m\n",
      "File \u001b[0;32m/opt/conda/lib/python3.11/site-packages/fsl/wrappers/wrapperutils.py:947\u001b[0m, in \u001b[0;36mFileOrThing.__call__\u001b[0;34m(self, *args, **kwargs)\u001b[0m\n\u001b[1;32m    945\u001b[0m \u001b[38;5;66;03m# Call the function\u001b[39;00m\n\u001b[1;32m    946\u001b[0m \u001b[38;5;28;01mtry\u001b[39;00m:\n\u001b[0;32m--> 947\u001b[0m     result \u001b[38;5;241m=\u001b[39m \u001b[43mfunc\u001b[49m\u001b[43m(\u001b[49m\u001b[38;5;241;43m*\u001b[39;49m\u001b[43margs\u001b[49m\u001b[43m,\u001b[49m\u001b[43m \u001b[49m\u001b[38;5;241;43m*\u001b[39;49m\u001b[38;5;241;43m*\u001b[39;49m\u001b[43mkwargs\u001b[49m\u001b[43m)\u001b[49m\n\u001b[1;32m    949\u001b[0m \u001b[38;5;28;01mfinally\u001b[39;00m:\n\u001b[1;32m    950\u001b[0m     \u001b[38;5;66;03m# if we're the top-level FileOrThing\u001b[39;00m\n\u001b[1;32m    951\u001b[0m     \u001b[38;5;66;03m# decorator, remove the attributes we\u001b[39;00m\n\u001b[1;32m    952\u001b[0m     \u001b[38;5;66;03m# added above.\u001b[39;00m\n\u001b[1;32m    953\u001b[0m     \u001b[38;5;28;01mif\u001b[39;00m parent:\n",
      "File \u001b[0;32m/opt/conda/lib/python3.11/site-packages/fsl/wrappers/wrapperutils.py:234\u001b[0m, in \u001b[0;36mgenxwrapper.<locals>.wrapper\u001b[0;34m(*args, **kwargs)\u001b[0m\n\u001b[1;32m    231\u001b[0m     \u001b[38;5;28;01mwith\u001b[39;00m asrt\u001b[38;5;241m.\u001b[39mdisabled(cmdonly \u001b[38;5;129;01mor\u001b[39;00m (submit \u001b[38;5;129;01mnot\u001b[39;00m \u001b[38;5;129;01min\u001b[39;00m (\u001b[38;5;28;01mNone\u001b[39;00m, \u001b[38;5;28;01mFalse\u001b[39;00m))):\n\u001b[1;32m    232\u001b[0m         cmd \u001b[38;5;241m=\u001b[39m func(\u001b[38;5;241m*\u001b[39margs, \u001b[38;5;241m*\u001b[39m\u001b[38;5;241m*\u001b[39mkwargs)\n\u001b[0;32m--> 234\u001b[0m \u001b[38;5;28;01mreturn\u001b[39;00m \u001b[43mrunner\u001b[49m\u001b[43m(\u001b[49m\u001b[43mcmd\u001b[49m\u001b[43m,\u001b[49m\n\u001b[1;32m    235\u001b[0m \u001b[43m              \u001b[49m\u001b[43mstderr\u001b[49m\u001b[38;5;241;43m=\u001b[39;49m\u001b[43mstderr\u001b[49m\u001b[43m,\u001b[49m\n\u001b[1;32m    236\u001b[0m \u001b[43m              \u001b[49m\u001b[43mlog\u001b[49m\u001b[38;5;241;43m=\u001b[39;49m\u001b[43mlogg\u001b[49m\u001b[43m,\u001b[49m\n\u001b[1;32m    237\u001b[0m \u001b[43m              \u001b[49m\u001b[43msubmit\u001b[49m\u001b[38;5;241;43m=\u001b[39;49m\u001b[43msubmit\u001b[49m\u001b[43m,\u001b[49m\n\u001b[1;32m    238\u001b[0m \u001b[43m              \u001b[49m\u001b[43mcmdonly\u001b[49m\u001b[38;5;241;43m=\u001b[39;49m\u001b[43mcmdonly\u001b[49m\u001b[43m,\u001b[49m\n\u001b[1;32m    239\u001b[0m \u001b[43m              \u001b[49m\u001b[43mstdout\u001b[49m\u001b[38;5;241;43m=\u001b[39;49m\u001b[43mstdout\u001b[49m\u001b[43m,\u001b[49m\n\u001b[1;32m    240\u001b[0m \u001b[43m              \u001b[49m\u001b[43mexitcode\u001b[49m\u001b[38;5;241;43m=\u001b[39;49m\u001b[43mexitcode\u001b[49m\u001b[43m)\u001b[49m\n",
      "File \u001b[0;32m/opt/conda/lib/python3.11/site-packages/fsl/utils/run.py:437\u001b[0m, in \u001b[0;36mrunfsl\u001b[0;34m(*args, **kwargs)\u001b[0m\n\u001b[1;32m    431\u001b[0m \u001b[38;5;66;03m# error if the command cannot\u001b[39;00m\n\u001b[1;32m    432\u001b[0m \u001b[38;5;66;03m# be found in a FSL directory\u001b[39;00m\n\u001b[1;32m    433\u001b[0m \u001b[38;5;28;01melse\u001b[39;00m:\n\u001b[1;32m    434\u001b[0m     \u001b[38;5;28;01mraise\u001b[39;00m \u001b[38;5;167;01mFileNotFoundError\u001b[39;00m(\u001b[38;5;124m'\u001b[39m\u001b[38;5;124mFSL tool \u001b[39m\u001b[38;5;132;01m{}\u001b[39;00m\u001b[38;5;124m not found (checked \u001b[39m\u001b[38;5;132;01m{}\u001b[39;00m\u001b[38;5;124m)\u001b[39m\u001b[38;5;124m'\u001b[39m\u001b[38;5;241m.\u001b[39mformat(\n\u001b[1;32m    435\u001b[0m         args[\u001b[38;5;241m0\u001b[39m], \u001b[38;5;124m'\u001b[39m\u001b[38;5;124m, \u001b[39m\u001b[38;5;124m'\u001b[39m\u001b[38;5;241m.\u001b[39mjoin(prefixes)))\n\u001b[0;32m--> 437\u001b[0m \u001b[38;5;28;01mreturn\u001b[39;00m \u001b[43mrun\u001b[49m\u001b[43m(\u001b[49m\u001b[38;5;241;43m*\u001b[39;49m\u001b[43margs\u001b[49m\u001b[43m,\u001b[49m\u001b[43m \u001b[49m\u001b[38;5;241;43m*\u001b[39;49m\u001b[38;5;241;43m*\u001b[39;49m\u001b[43mkwargs\u001b[49m\u001b[43m)\u001b[49m\n",
      "File \u001b[0;32m/opt/conda/lib/python3.11/site-packages/fsl/utils/run.py:258\u001b[0m, in \u001b[0;36mrun\u001b[0;34m(*args, **kwargs)\u001b[0m\n\u001b[1;32m    254\u001b[0m stdout, stderr, exitcode \u001b[38;5;241m=\u001b[39m _realrun(\n\u001b[1;32m    255\u001b[0m     tee, logStdout, logStderr, logCmd, \u001b[38;5;241m*\u001b[39margs, \u001b[38;5;241m*\u001b[39m\u001b[38;5;241m*\u001b[39mkwargs)\n\u001b[1;32m    257\u001b[0m \u001b[38;5;28;01mif\u001b[39;00m \u001b[38;5;129;01mnot\u001b[39;00m returnExitcode \u001b[38;5;129;01mand\u001b[39;00m (exitcode \u001b[38;5;241m!=\u001b[39m \u001b[38;5;241m0\u001b[39m):\n\u001b[0;32m--> 258\u001b[0m     \u001b[38;5;28;01mraise\u001b[39;00m \u001b[38;5;167;01mRuntimeError\u001b[39;00m(\u001b[38;5;124m'\u001b[39m\u001b[38;5;132;01m{}\u001b[39;00m\u001b[38;5;124m returned non-zero exit code: \u001b[39m\u001b[38;5;132;01m{}\u001b[39;00m\u001b[38;5;124m'\u001b[39m\u001b[38;5;241m.\u001b[39mformat(\n\u001b[1;32m    259\u001b[0m         args[\u001b[38;5;241m0\u001b[39m], exitcode))\n\u001b[1;32m    261\u001b[0m results \u001b[38;5;241m=\u001b[39m []\n\u001b[1;32m    262\u001b[0m \u001b[38;5;28;01mif\u001b[39;00m returnStdout:   results\u001b[38;5;241m.\u001b[39mappend(stdout)\n",
      "\u001b[0;31mRuntimeError\u001b[0m: /cvmfs/neurodesk.ardc.edu.au/containers/fsl_6.0.7.4_20231005/fsl_6.0.7.4_20231005.simg/opt/fsl-6.0.7.4/bin/mcflirt returned non-zero exit code: -6"
     ]
    }
   ],
   "source": [
    "from fsl.wrappers import mcflirt\n",
    "\n",
    "path_motioncorr_LR = op.join(deriv_func, \"tfMRI_MOTOR_LR_motioncorrected\")            # path to the motion corrected file\n",
    "path_motioncorr_RL = op.join(deriv_func, \"tfMRI_MOTOR_RL_motioncorrected\")            # path to the motion corrected file\n",
    "\n",
    "mcflirt(infile=functional_path_LR, o=path_motioncorr_LR, plots=True, report=True, dof=6, mats=True)\n",
    "print(\"Motor LR corrected\")\n",
    "mcflirt(infile=functional_path_RL, o=path_motioncorr_RL, plots=True, report=True, dof=6, mats=True)\n",
    "print(\"Motor RL corrected\")"
   ]
  },
  {
   "cell_type": "code",
   "execution_count": 32,
   "metadata": {},
   "outputs": [
    {
     "name": "stdout",
     "output_type": "stream",
     "text": [
      "Dossier supprimé pour libérer de l'espace.\n"
     ]
    }
   ],
   "source": [
    "# Cell to run if save is not possible anymore\n",
    "\n",
    "import shutil\n",
    "import os\n",
    "\n",
    "folder_to_clear = \"derivatives/preprocessed_data/subject_101410\"\n",
    "if os.path.exists(folder_to_clear):\n",
    "    shutil.rmtree(folder_to_clear)\n",
    "    print(\"Dossier supprimé pour libérer de l'espace.\")"
   ]
  },
  {
   "cell_type": "markdown",
   "metadata": {},
   "source": [
    "# In order to determine how many in how many images the subject moves more than what is tolerated, we can run the cell below"
   ]
  },
  {
   "cell_type": "code",
   "execution_count": 22,
   "metadata": {},
   "outputs": [
    {
     "data": {
      "image/png": "[encoded data removed]",
      "text/plain": [
       "<Figure size 640x480 with 1 Axes>"
      ]
     },
     "metadata": {},
     "output_type": "display_data"
    },
    {
     "name": "stdout",
     "output_type": "stream",
     "text": [
      "Indices of frames of LR motion above threshold: [1, 2, 4, 6, 13, 14, 35, 36, 37, 42, 43, 55, 61, 62, 63, 64, 67, 68, 120, 121, 122, 141, 142, 143, 145, 146, 150, 156, 157, 158, 159, 161, 162, 174, 181, 186, 188, 191, 206, 207, 220, 223, 233, 275, 276, 283]\n"
     ]
    },
    {
     "data": {
      "image/png": "[encoded data removed]",
      "text/plain": [
       "<Figure size 640x480 with 1 Axes>"
      ]
     },
     "metadata": {},
     "output_type": "display_data"
    },
    {
     "name": "stdout",
     "output_type": "stream",
     "text": [
      "Indices of frames of RL motion above threshold: [39, 40, 49, 100, 111, 121, 122, 136, 142, 143, 148, 149, 158, 169, 186, 225, 245, 272, 278, 279, 281]\n"
     ]
    }
   ],
   "source": [
    "import matplotlib.pyplot as plt\n",
    "\n",
    "lr_par_path = op.join(deriv_func, 'tfMRI_MOTOR_LR_motioncorrected.par')\n",
    "rl_par_path = op.join(deriv_func, 'tfMRI_MOTOR_RL_motioncorrected.par')\n",
    "\n",
    "def load_mot_params_fsl_6_dof(path):\n",
    "    return pd.read_csv(path, sep='  ', header=None, engine='python', names=['Rotation x', 'Rotation y', 'Rotation z','Translation x', 'Translation y', 'Translation z'])\n",
    "\n",
    "mot_params_LR = load_mot_params_fsl_6_dof(lr_par_path)\n",
    "mot_params_LR\n",
    "\n",
    "mot_params_RL = load_mot_params_fsl_6_dof(rl_par_path)\n",
    "mot_params_RL\n",
    "\n",
    "def compute_FD_power(mot_params):\n",
    "    framewise_diff = mot_params.diff().iloc[1:]\n",
    "\n",
    "    rotation_params = framewise_diff[['Rotation x', 'Rotation y', 'Rotation z']]\n",
    "    \n",
    "    convert_rot_to_arc = rotation_params*50                                    # transform from angle to arc of circle for a radius of 50mm, normal used values are 50 or 90 mm\n",
    "    translation_params = framewise_diff[['Translation x', 'Translation y', 'Translation z']]\n",
    "    fd = convert_rot_to_arc.abs().sum(axis=1) + translation_params.abs().sum(axis=1)\n",
    "    return fd\n",
    "\n",
    "fd_LR = compute_FD_power(mot_params_LR).to_numpy()\n",
    "threshold_LR = np.quantile(fd_LR,0.75) + 1.5*(np.quantile(fd_LR,0.75) - np.quantile(fd_LR,0.25))\n",
    "\n",
    "#%matplotlib inline\n",
    "plt.plot(list(range(1, fd_LR.size+1)), fd_LR)\n",
    "plt.xlabel('Volume')\n",
    "plt.ylabel('FD displacement (mm)')\n",
    "plt.hlines(threshold_LR, 0, 370,colors='black', linestyles='dashed', label='FD threshold')\n",
    "plt.legend()\n",
    "plt.show()\n",
    "\n",
    "print(f\"Indices of frames of LR motion above threshold: {(np.where(fd_LR > threshold_LR)[0] + 1).tolist()}\")\n",
    "\n",
    "fd_RL = compute_FD_power(mot_params_RL).to_numpy()\n",
    "threshold_RL = np.quantile(fd_RL,0.75) + 1.5*(np.quantile(fd_RL,0.75) - np.quantile(fd_RL,0.25))\n",
    "\n",
    "plt.plot(list(range(1, fd_RL.size+1)), fd_RL)\n",
    "plt.xlabel('Volume')\n",
    "plt.ylabel('FD displacement (mm)')\n",
    "plt.hlines(threshold_RL, 0, 370,colors='black', linestyles='dashed', label='FD threshold')\n",
    "plt.legend()\n",
    "plt.show()\n",
    "\n",
    "print(f\"Indices of frames of RL motion above threshold: {(np.where(fd_RL > threshold_RL)[0] + 1).tolist()}\")"
   ]
  },
  {
   "cell_type": "markdown",
   "metadata": {},
   "source": [
    "## 2)c) Co-registration (bonus)"
   ]
  },
  {
   "cell_type": "markdown",
   "metadata": {},
   "source": [
    "## 2)d) Gaussian smoothing"
   ]
  },
  {
   "cell_type": "markdown",
   "metadata": {},
   "source": [
    "## 3)"
   ]
  },
  {
   "cell_type": "code",
   "execution_count": 5,
   "metadata": {},
   "outputs": [],
   "source": [
    "from nilearn.glm.first_level import make_first_level_design_matrix, FirstLevelModel\n",
    "from nilearn.plotting import plot_design_matrix\n",
    "from nilearn.plotting import plot_stat_map\n",
    "from IPython.display import display\n",
    "from nilearn.image import mean_img\n",
    "import nibabel as nib"
   ]
  },
  {
   "cell_type": "code",
   "execution_count": 31,
   "metadata": {},
   "outputs": [
    {
     "name": "stdout",
     "output_type": "stream",
     "text": [
      "Events Table — LR Run\n"
     ]
    },
    {
     "data": {
      "text/html": [
       "<div>\n",
       "<style scoped>\n",
       "    .dataframe tbody tr th:only-of-type {\n",
       "        vertical-align: middle;\n",
       "    }\n",
       "\n",
       "    .dataframe tbody tr th {\n",
       "        vertical-align: top;\n",
       "    }\n",
       "\n",
       "    .dataframe thead th {\n",
       "        text-align: right;\n",
       "    }\n",
       "</style>\n",
       "<table border=\"1\" class=\"dataframe\">\n",
       "  <thead>\n",
       "    <tr style=\"text-align: right;\">\n",
       "      <th></th>\n",
       "      <th>onset</th>\n",
       "      <th>duration</th>\n",
       "      <th>condition</th>\n",
       "    </tr>\n",
       "  </thead>\n",
       "  <tbody>\n",
       "    <tr>\n",
       "      <th>0</th>\n",
       "      <td>0.00</td>\n",
       "      <td>8.00</td>\n",
       "      <td>NaN</td>\n",
       "    </tr>\n",
       "    <tr>\n",
       "      <th>1</th>\n",
       "      <td>8.00</td>\n",
       "      <td>3.00</td>\n",
       "      <td>cue</td>\n",
       "    </tr>\n",
       "    <tr>\n",
       "      <th>2</th>\n",
       "      <td>11.00</td>\n",
       "      <td>12.00</td>\n",
       "      <td>rh</td>\n",
       "    </tr>\n",
       "    <tr>\n",
       "      <th>3</th>\n",
       "      <td>23.00</td>\n",
       "      <td>3.00</td>\n",
       "      <td>cue</td>\n",
       "    </tr>\n",
       "    <tr>\n",
       "      <th>4</th>\n",
       "      <td>26.00</td>\n",
       "      <td>12.00</td>\n",
       "      <td>lf</td>\n",
       "    </tr>\n",
       "    <tr>\n",
       "      <th>5</th>\n",
       "      <td>38.00</td>\n",
       "      <td>3.00</td>\n",
       "      <td>cue</td>\n",
       "    </tr>\n",
       "    <tr>\n",
       "      <th>6</th>\n",
       "      <td>41.00</td>\n",
       "      <td>12.00</td>\n",
       "      <td>t</td>\n",
       "    </tr>\n",
       "    <tr>\n",
       "      <th>7</th>\n",
       "      <td>53.00</td>\n",
       "      <td>3.00</td>\n",
       "      <td>cue</td>\n",
       "    </tr>\n",
       "    <tr>\n",
       "      <th>8</th>\n",
       "      <td>56.00</td>\n",
       "      <td>12.00</td>\n",
       "      <td>rf</td>\n",
       "    </tr>\n",
       "    <tr>\n",
       "      <th>9</th>\n",
       "      <td>68.00</td>\n",
       "      <td>3.00</td>\n",
       "      <td>cue</td>\n",
       "    </tr>\n",
       "  </tbody>\n",
       "</table>\n",
       "</div>"
      ],
      "text/plain": [
       "   onset  duration condition\n",
       "0   0.00      8.00       NaN\n",
       "1   8.00      3.00       cue\n",
       "2  11.00     12.00        rh\n",
       "3  23.00      3.00       cue\n",
       "4  26.00     12.00        lf\n",
       "5  38.00      3.00       cue\n",
       "6  41.00     12.00         t\n",
       "7  53.00      3.00       cue\n",
       "8  56.00     12.00        rf\n",
       "9  68.00      3.00       cue"
      ]
     },
     "metadata": {},
     "output_type": "display_data"
    },
    {
     "name": "stdout",
     "output_type": "stream",
     "text": [
      "Events Table — RL Run\n"
     ]
    },
    {
     "data": {
      "text/html": [
       "<div>\n",
       "<style scoped>\n",
       "    .dataframe tbody tr th:only-of-type {\n",
       "        vertical-align: middle;\n",
       "    }\n",
       "\n",
       "    .dataframe tbody tr th {\n",
       "        vertical-align: top;\n",
       "    }\n",
       "\n",
       "    .dataframe thead th {\n",
       "        text-align: right;\n",
       "    }\n",
       "</style>\n",
       "<table border=\"1\" class=\"dataframe\">\n",
       "  <thead>\n",
       "    <tr style=\"text-align: right;\">\n",
       "      <th></th>\n",
       "      <th>onset</th>\n",
       "      <th>duration</th>\n",
       "      <th>condition</th>\n",
       "    </tr>\n",
       "  </thead>\n",
       "  <tbody>\n",
       "    <tr>\n",
       "      <th>0</th>\n",
       "      <td>0.00</td>\n",
       "      <td>8.00</td>\n",
       "      <td>NaN</td>\n",
       "    </tr>\n",
       "    <tr>\n",
       "      <th>1</th>\n",
       "      <td>8.00</td>\n",
       "      <td>3.00</td>\n",
       "      <td>cue</td>\n",
       "    </tr>\n",
       "    <tr>\n",
       "      <th>2</th>\n",
       "      <td>11.00</td>\n",
       "      <td>12.00</td>\n",
       "      <td>lh</td>\n",
       "    </tr>\n",
       "    <tr>\n",
       "      <th>3</th>\n",
       "      <td>23.00</td>\n",
       "      <td>3.00</td>\n",
       "      <td>cue</td>\n",
       "    </tr>\n",
       "    <tr>\n",
       "      <th>4</th>\n",
       "      <td>26.00</td>\n",
       "      <td>12.00</td>\n",
       "      <td>rf</td>\n",
       "    </tr>\n",
       "    <tr>\n",
       "      <th>5</th>\n",
       "      <td>38.00</td>\n",
       "      <td>15.00</td>\n",
       "      <td>fixation</td>\n",
       "    </tr>\n",
       "    <tr>\n",
       "      <th>6</th>\n",
       "      <td>53.00</td>\n",
       "      <td>3.00</td>\n",
       "      <td>cue</td>\n",
       "    </tr>\n",
       "    <tr>\n",
       "      <th>7</th>\n",
       "      <td>56.00</td>\n",
       "      <td>12.00</td>\n",
       "      <td>t</td>\n",
       "    </tr>\n",
       "    <tr>\n",
       "      <th>8</th>\n",
       "      <td>68.00</td>\n",
       "      <td>3.00</td>\n",
       "      <td>cue</td>\n",
       "    </tr>\n",
       "    <tr>\n",
       "      <th>9</th>\n",
       "      <td>71.00</td>\n",
       "      <td>12.00</td>\n",
       "      <td>lf</td>\n",
       "    </tr>\n",
       "  </tbody>\n",
       "</table>\n",
       "</div>"
      ],
      "text/plain": [
       "   onset  duration condition\n",
       "0   0.00      8.00       NaN\n",
       "1   8.00      3.00       cue\n",
       "2  11.00     12.00        lh\n",
       "3  23.00      3.00       cue\n",
       "4  26.00     12.00        rf\n",
       "5  38.00     15.00  fixation\n",
       "6  53.00      3.00       cue\n",
       "7  56.00     12.00         t\n",
       "8  68.00      3.00       cue\n",
       "9  71.00     12.00        lf"
      ]
     },
     "metadata": {},
     "output_type": "display_data"
    }
   ],
   "source": [
    "fMRI_path = '/data/subject101410/fMRI'\n",
    "\n",
    "func_path_LR = op.join(fMRI_path, 'tfMRI_MOTOR_LR') \n",
    "func_path_RL = op.join(fMRI_path, 'tfMRI_MOTOR_RL') \n",
    "\n",
    "events_LR = pd.read_csv(op.join(func_path_LR, 'events_LR.csv'), sep=',')\n",
    "events_RL = pd.read_csv(op.join(func_path_RL, 'events_RL.csv'), sep=',')\n",
    "\n",
    "print(\"Events Table — LR Run\")\n",
    "pd.set_option('display.float_format', '{:,.2f}'.format)\n",
    "display(events_LR.head(10))\n",
    "\n",
    "print(\"Events Table — RL Run\")\n",
    "pd.set_option('display.float_format', '{:,.2f}'.format)\n",
    "display(events_RL.head(10))\n"
   ]
  },
  {
   "cell_type": "code",
   "execution_count": 33,
   "metadata": {},
   "outputs": [
    {
     "ename": "NameError",
     "evalue": "name 'func_img' is not defined",
     "output_type": "error",
     "traceback": [
      "\u001b[0;31m---------------------------------------------------------------------------\u001b[0m",
      "\u001b[0;31mNameError\u001b[0m                                 Traceback (most recent call last)",
      "Cell \u001b[0;32mIn[33], line 2\u001b[0m\n\u001b[1;32m      1\u001b[0m \u001b[38;5;28;01mimport\u001b[39;00m \u001b[38;5;21;01mnibabel\u001b[39;00m \u001b[38;5;28;01mas\u001b[39;00m \u001b[38;5;21;01mnib\u001b[39;00m\n\u001b[0;32m----> 2\u001b[0m img \u001b[38;5;241m=\u001b[39m nib\u001b[38;5;241m.\u001b[39mload(\u001b[43mfunc_img\u001b[49m)\n\u001b[1;32m      3\u001b[0m n_scans \u001b[38;5;241m=\u001b[39m img\u001b[38;5;241m.\u001b[39mshape[\u001b[38;5;241m3\u001b[39m]           \u001b[38;5;66;03m# number of volumes\u001b[39;00m\n\u001b[1;32m      4\u001b[0m TR \u001b[38;5;241m=\u001b[39m img\u001b[38;5;241m.\u001b[39mheader\u001b[38;5;241m.\u001b[39mget_zooms()[\u001b[38;5;241m3\u001b[39m]   \u001b[38;5;66;03m# repetition time\u001b[39;00m\n",
      "\u001b[0;31mNameError\u001b[0m: name 'func_img' is not defined"
     ]
    }
   ],
   "source": [
    "import nibabel as nib\n",
    "img = nib.load(func_img)\n",
    "n_scans = img.shape[3]           # number of volumes\n",
    "TR = img.header.get_zooms()[3]   # repetition time\n",
    "frame_times = np.arange(n_scans) * TR  # time vector for each volume\n",
    "\n",
    "# design matrix LR\n",
    "img_LR = nib.load(func_img_LR) #Replace func_img_LR by the right file\n",
    "n_scans_LR = img_LR.shape[3]\n",
    "TR = 0.72\n",
    "frame_times_LR = np.arange(n_scans_LR) * TR\n",
    "\n",
    "design_matrix_LR = make_first_level_design_matrix(\n",
    "    frame_times_LR,\n",
    "    events_LR,\n",
    "    hrf_model='spm',\n",
    "    drift_model='cosine',\n",
    "    high_pass=0.01)\n",
    "\n",
    "print('Design Matrix LR')\n",
    "plot_design_matrix(fmri_glm_LR.design_matrices_[0])\n",
    "\n",
    "# design matrix RL\n",
    "img_RL = nib.load(func_img_RL) #Replace func_img_LR by the right file\n",
    "n_scans_RL = img_RL.shape[3]\n",
    "frame_times_RL = np.arange(n_scans_RL) * TR\n",
    "\n",
    "design_matrix_RL = make_first_level_design_matrix(\n",
    "    frame_times_RL,\n",
    "    events_RL,\n",
    "    hrf_model='spm',\n",
    "    drift_model='cosine',\n",
    "    high_pass=0.01)\n",
    "\n",
    "print( 'Design Matrix RL')\n",
    "plot_design_matrix(fmri_glm_RL.design_matrices_[0])\n",
    "plt.show()"
   ]
  },
  {
   "cell_type": "markdown",
   "metadata": {},
   "source": [
    "# 4)"
   ]
  },
  {
   "cell_type": "code",
   "execution_count": 34,
   "metadata": {},
   "outputs": [
    {
     "ename": "NameError",
     "evalue": "name 'FirstLevelModel' is not defined",
     "output_type": "error",
     "traceback": [
      "\u001b[0;31m---------------------------------------------------------------------------\u001b[0m",
      "\u001b[0;31mNameError\u001b[0m                                 Traceback (most recent call last)",
      "Cell \u001b[0;32mIn[34], line 1\u001b[0m\n\u001b[0;32m----> 1\u001b[0m GLM_fMRI \u001b[38;5;241m=\u001b[39m \u001b[43mFirstLevelModel\u001b[49m(t_r\u001b[38;5;241m=\u001b[39m\u001b[38;5;241m0.72\u001b[39m,\n\u001b[1;32m      2\u001b[0m                            noise_model\u001b[38;5;241m=\u001b[39m\u001b[38;5;124m'\u001b[39m\u001b[38;5;124mar1\u001b[39m\u001b[38;5;124m'\u001b[39m,\n\u001b[1;32m      3\u001b[0m                            standardize\u001b[38;5;241m=\u001b[39m\u001b[38;5;28;01mFalse\u001b[39;00m,\n\u001b[1;32m      4\u001b[0m                            hrf_model\u001b[38;5;241m=\u001b[39m\u001b[38;5;124m'\u001b[39m\u001b[38;5;124mspm\u001b[39m\u001b[38;5;124m'\u001b[39m,\n\u001b[1;32m      5\u001b[0m                            drift_model\u001b[38;5;241m=\u001b[39m\u001b[38;5;28;01mNone\u001b[39;00m,\n\u001b[1;32m      6\u001b[0m                            high_pass\u001b[38;5;241m=\u001b[39m\u001b[38;5;241m.01\u001b[39m)\n\u001b[1;32m      8\u001b[0m \u001b[38;5;66;03m# Fit the model to our design and data\u001b[39;00m\n\u001b[1;32m      9\u001b[0m fmri_glm_LR \u001b[38;5;241m=\u001b[39m GLM_fMRI\u001b[38;5;241m.\u001b[39mfit(fmri_img, events_LR)\n",
      "\u001b[0;31mNameError\u001b[0m: name 'FirstLevelModel' is not defined"
     ]
    }
   ],
   "source": [
    "GLM_fMRI = FirstLevelModel(t_r=0.72,\n",
    "                           noise_model='ar1',\n",
    "                           standardize=False,\n",
    "                           hrf_model='spm',\n",
    "                           drift_model=None,\n",
    "                           high_pass=.01)\n",
    "\n",
    "# Fit the model to our design and data\n",
    "fmri_glm_LR = GLM_fMRI.fit(fmri_img, events_LR)\n",
    "fmri_glm_RL = GLM_fMRI.fit(fmri_img, events_RL)\n",
    "\n",
    "# Get regressors\n",
    "regressors_LR = fmri_glm_LR.design_matrices_[0].columns.tolist()\n",
    "print(regressors_LR)\n",
    "regressors_RL = fmri_glm_LR.design_matrices_[0].columns.tolist()\n",
    "print(regressors_RL)\n",
    "\n",
    "# Compute and plot t-map for each regressor and run\n",
    "for reg in regressors_LR:\n",
    "    t_map = fmri_glm.compute_contrast(reg, output_type='stat')\n",
    "    plotting.plot_stat_map(\n",
    "        t_map,\n",
    "        threshold=3.0,\n",
    "        display_mode='ortho',\n",
    "        title=f'Statistical map: {reg}'\n",
    "    )\n",
    "\n",
    "for reg in regressors_RL:\n",
    "    t_map = fmri_glm_RL.compute_contrast(reg, output_type='stat')\n",
    "    plotting.plot_stat_map(\n",
    "        t_map,\n",
    "        threshold=3.0,\n",
    "        display_mode='ortho',\n",
    "        title=f'Statistical map: {reg}'\n",
    "    )"
   ]
  },
  {
   "cell_type": "markdown",
   "metadata": {},
   "source": [
    "# Comments on t-map"
   ]
  },
  {
   "cell_type": "markdown",
   "metadata": {},
   "source": [
    "# 5)"
   ]
  },
  {
   "cell_type": "code",
   "execution_count": null,
   "metadata": {},
   "outputs": [],
   "source": [
    "contrast_vector_hand_vs_foot = [1, 1, -1, -1, 0, 0] # depend on the regressor list, might be changed\n",
    "\n",
    "activation_map_LR = fmri_glm.compute_contrast(contrast_vector_hand_vs_foot,\n",
    "                                  output_type='effect_size')\n",
    "activation_map_RL = fmri_glm.compute_contrast(contrast_vector_hand_vs_foot,\n",
    "                                  output_type='effect_size')\n",
    "#nib.save(z_map, 'z_map_uncorrected.nii.gz')\n",
    "\n",
    "# activation map for LR\n",
    "plotting.plot_stat_map(\n",
    "    activation_map_LR,\n",
    "    threshold=0.5,          # might need to be adjusted as needed\n",
    "    display_mode='ortho',\n",
    "    cut_coords=(0, 0, 0),   # might need to be adjusted as needed\n",
    "    title='Hand > Foot Activation Map, LR'\n",
    "))\n",
    "\n",
    "# activation map for RL\n",
    "plotting.plot_stat_map(\n",
    "    activation_map_RL,\n",
    "    threshold=0.5,          # might need to be adjusted as needed\n",
    "    display_mode='ortho',\n",
    "    cut_coords=(0, 0, 0),   # might need to be adjusted as needed\n",
    "    title='Hand > Foot Activation Map, RL'\n",
    ")\n",
    "\n",
    "plt.show()\n",
    "\n",
    "#nib.save(activation_map, 'activation_map_hand_vs_foot.nii.gz')"
   ]
  },
  {
   "cell_type": "markdown",
   "metadata": {},
   "source": [
    "\n",
    "# END OF OUR CODE, BELOW IS THE NEURODESK TEMPLATE (IGNORE BELOW)"
   ]
  },
  {
   "cell_type": "markdown",
   "metadata": {},
   "source": [
    "### Datalad"
   ]
  },
  {
   "cell_type": "code",
   "execution_count": null,
   "metadata": {
    "editable": true,
    "scrolled": true,
    "slideshow": {
     "slide_type": ""
    },
    "tags": [
     "scroll-output"
    ],
    "vscode": {
     "languageId": "plaintext"
    }
   },
   "outputs": [],
   "source": [
    "%%bash\n",
    "\n",
    "# Install the dataset from GitHub using DataLad. \n",
    "# Replace the URL with the one corresponding to the OpenNeuro dataset you want to use.\n",
    "datalad install https://github.com/OpenNeuroDatasets/ds000102.git \n",
    "\n",
    "# Navigate into the dataset directory. \n",
    "# This should match the name of the dataset repository.\n",
    "cd ds000102\n",
    "\n",
    "# Optional: List available subjects\n",
    "ls -d sub-*\n",
    "\n",
    "# Download data for a specific subject (e.g., sub-08).\n",
    "# You can change the subject ID to the one you're interested in.\n",
    "datalad get sub-08"
   ]
  },
  {
   "cell_type": "markdown",
   "metadata": {},
   "source": [
    "### OSF"
   ]
  },
  {
   "cell_type": "code",
   "execution_count": null,
   "metadata": {
    "editable": true,
    "scrolled": true,
    "slideshow": {
     "slide_type": ""
    },
    "tags": []
   },
   "outputs": [],
   "source": [
    "# Use the OSF client to clone the contents of the OSF project with ID 'ru43c' into the current directory\n",
    "# The output is suppressed for cleaner display using > /dev/null 2>&1\n",
    "!osf -p ru43c clone . > /dev/null 2>&1\n",
    "\n",
    "# Extract the contents of the downloaded tar archive, which contains DICOM files\n",
    "!tar xf osfstorage/dicoms-unsorted.tar\n",
    "\n",
    "# Remove the now-unneeded 'osfstorage' directory to keep things tidy\n",
    "!rm -rf osfstorage/\n",
    "\n",
    "# Display the top of the folder tree for the extracted DICOM files (limited with `head` to avoid overwhelming output)\n",
    "!tree dicoms-unsorted | head\n",
    "\n",
    "# Print a count of how many unsorted DICOM files were extracted\n",
    "!echo -e \"...\\nThere are `ls dicoms-unsorted | wc -l` unsorted DICOMs in ./dicoms-unsorted/\""
   ]
  },
  {
   "cell_type": "markdown",
   "metadata": {},
   "source": [
    "### Visualisation of a dicom (one method for example)"
   ]
  },
  {
   "cell_type": "code",
   "execution_count": null,
   "metadata": {},
   "outputs": [],
   "source": [
    "# Define the path to a DICOM file\n",
    "# You can change this to any other file in the dicoms-unsorted/ directory\n",
    "dcm_path = \"./dicoms-unsorted/MR.1.2.276.0.7230010.3.1.3.0.4480.1677042698.772469.84.dcm\"\n",
    "\n",
    "# Read the DICOM file into a Python object\n",
    "ds = pydicom.dcmread(dcm_path)\n",
    "\n",
    "# ----------------------------\n",
    "# Inspecting DICOM metadata (optional)\n",
    "# ----------------------------\n",
    "\n",
    "# Print a few key metadata fields (can be useful for QC or orientation)\n",
    "print(\"Patient ID:\", ds.get(\"PatientID\", \"N/A\"))\n",
    "print(\"Modality:\", ds.get(\"Modality\", \"N/A\"))\n",
    "print(\"Study Date:\", ds.get(\"StudyDate\", \"N/A\"))\n",
    "\n",
    "# ----------------------------\n",
    "# Visualizing the DICOM image\n",
    "# ----------------------------\n",
    "\n",
    "# Display the image stored in the DICOM file using matplotlib\n",
    "# Note: Some DICOM files (e.g., non-image series) may not contain pixel data\n",
    "plt.imshow(ds.pixel_array, cmap=plt.cm.gray) # Use grayscale color map\n",
    "plt.title(\"DICOM Slice: MR.1.1.dcm\") # Title of the plot\n",
    "plt.axis(\"off\") # Hide axis ticks/labels for cleaner view\n",
    "plt.show()"
   ]
  },
  {
   "cell_type": "markdown",
   "metadata": {},
   "source": [
    "## 2. Analysis"
   ]
  },
  {
   "cell_type": "markdown",
   "metadata": {},
   "source": [
    "*Be sure to annotate your example. You can also add Markdown blocs to provide explanations.*"
   ]
  },
  {
   "cell_type": "code",
   "execution_count": null,
   "metadata": {
    "vscode": {
     "languageId": "plaintext"
    }
   },
   "outputs": [],
   "source": [
    "!bet ./ds000102/sub-08/anat/sub-08_T1w.nii.gz sub-08_T1w_brain.nii.gz"
   ]
  },
  {
   "cell_type": "markdown",
   "metadata": {},
   "source": [
    "## 3. Results"
   ]
  },
  {
   "cell_type": "code",
   "execution_count": null,
   "metadata": {
    "vscode": {
     "languageId": "plaintext"
    }
   },
   "outputs": [],
   "source": [
    "from ipyniivue import NiiVue\n",
    "nv = NiiVue()\n",
    "nv.load_volumes([{\"path\": \"sub-08_T1w_brain.nii.gz\"}])\n",
    "nv"
   ]
  },
  {
   "cell_type": "markdown",
   "metadata": {},
   "source": [
    "## Dependencies in Jupyter/Python\n",
    "- Using the package [watermark](https://github.com/rasbt/watermark) to document system environment and software versions used in this notebook"
   ]
  },
  {
   "cell_type": "code",
   "execution_count": null,
   "metadata": {
    "vscode": {
     "languageId": "plaintext"
    }
   },
   "outputs": [],
   "source": [
    "%%capture\n",
    "!pip install watermark"
   ]
  },
  {
   "cell_type": "code",
   "execution_count": null,
   "metadata": {
    "vscode": {
     "languageId": "plaintext"
    }
   },
   "outputs": [],
   "source": [
    "%load_ext watermark\n",
    "\n",
    "%watermark\n",
    "%watermark --iversions"
   ]
  }
 ],
 "metadata": {
  "kernelspec": {
   "display_name": "Python 3 (ipykernel)",
   "language": "python",
   "name": "python3"
  },
  "language_info": {
   "codemirror_mode": {
    "name": "ipython",
    "version": 3
   },
   "file_extension": ".py",
   "mimetype": "text/x-python",
   "name": "python",
   "nbconvert_exporter": "python",
   "pygments_lexer": "ipython3",
   "version": "3.11.6"
  }
 },
 "nbformat": 4,
 "nbformat_minor": 4
}
